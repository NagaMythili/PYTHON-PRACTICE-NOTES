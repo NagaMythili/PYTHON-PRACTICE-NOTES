{
 "cells": [
  {
   "cell_type": "markdown",
   "id": "5908ef40",
   "metadata": {},
   "source": [
    "# PANDAS"
   ]
  },
  {
   "cell_type": "markdown",
   "id": "91ce6656",
   "metadata": {},
   "source": [
    "its a one of the Python Library where (pandas-->pan--panal and Das--data) nothing but Panal Data.\n",
    "\n",
    "PANAL DATA :      \n",
    "      -->the data which is arranged in the form of Tables.        \n",
    "      -->in panal data it contains any type of data.            \n",
    "      -->In panal data ,data is may be NAN(not a None-it may contains MissValue)."
   ]
  },
  {
   "cell_type": "markdown",
   "id": "94ea3d4a",
   "metadata": {},
   "source": [
    "# USE OF PANDAS"
   ]
  },
  {
   "cell_type": "markdown",
   "id": "4bdbe8d7",
   "metadata": {},
   "source": [
    "The main purpose of pandas is to find the relation between 2 or more columns in a table for the purpose of statistical Operations( where in pictorial like graph representing of the data from table related ) "
   ]
  },
  {
   "cell_type": "markdown",
   "id": "1a4a24b2",
   "metadata": {},
   "source": [
    "# PANDAS PACKAGE"
   ]
  },
  {
   "cell_type": "markdown",
   "id": "9d6cfbd7",
   "metadata": {},
   "source": [
    "It is a Group of PanalData which are offering to analyze the data(Labelled Data--labelled details and Relational Data--table format)."
   ]
  },
  {
   "cell_type": "markdown",
   "id": "76ff2369",
   "metadata": {},
   "source": [
    "# Types of pandas Packages"
   ]
  },
  {
   "cell_type": "markdown",
   "id": "6f2489e0",
   "metadata": {},
   "source": [
    "                       DATA STRUCTURE\n",
    "                        /          \\\n",
    "                       /            \\\n",
    "                   1.SERIES      2.DATAFRAME\n",
    "   \n",
    "SERIES :   \n",
    "      -->a Series is a one dimensional labelled data DS.   \n",
    "      -->The axis of Labelled data is known as indexes.    \n",
    "      -->series are nothing but Columns in Excel Sheet.   \n",
    "      \n",
    "CREATING SERIES:     \n",
    "    -->Panda_Obj.Series(Collection-Name)   \n",
    "    # collection should be single dimenstion(are list,tuble,set,arrays,numpy)."
   ]
  },
  {
   "cell_type": "code",
   "execution_count": 7,
   "id": "48092b37",
   "metadata": {},
   "outputs": [
    {
     "name": "stdout",
     "output_type": "stream",
     "text": [
      "0    CS\n",
      "1    NM\n",
      "2    MV\n",
      "3    NS\n",
      "dtype: object\n"
     ]
    }
   ],
   "source": [
    "import pandas as n\n",
    "a=('CS','NM','MV','NS') \n",
    "b=n.Series(a)   \n",
    "print(b)\n",
    "# all are arranged in a coloumn with indexes and also if there is no x axis also y axis will be present in it.Because it \n",
    "#is a C-1Dimnesion ,0 and R-can change."
   ]
  },
  {
   "cell_type": "markdown",
   "id": "b0aa05cc",
   "metadata": {},
   "source": [
    "#            ACCESSING PANDA SERIES ELEMENTS\n",
    "                 /                   \\\n",
    "                /                     \\\n",
    "     1.ACCESS WITH POSITIONS        2.ACCESS WITH INDEX\n",
    "        (NORAML INDEX VALUES)   "
   ]
  },
  {
   "cell_type": "code",
   "execution_count": 1,
   "id": "1cf3fd6a",
   "metadata": {},
   "outputs": [
    {
     "name": "stdout",
     "output_type": "stream",
     "text": [
      "0    CS\n",
      "1    NM\n",
      "2    MV\n",
      "3    NS\n",
      "dtype: object\n",
      "\n",
      "\n",
      "ACCESS WITH POSITION\n",
      "1    NM\n",
      "2    MV\n",
      "dtype: object\n",
      "\n",
      "\n",
      "0    CS\n",
      "3    NS\n",
      "dtype: object\n",
      "\n",
      "\n",
      "ACCESS WITH INDEX\n",
      "a    NaN\n",
      "b    NaN\n",
      "n    NaN\n",
      "m    NaN\n",
      "dtype: object\n",
      "nan\n"
     ]
    }
   ],
   "source": [
    "import pandas as n\n",
    "a=('CS','NM','MV','NS') \n",
    "b=n.Series(a)\n",
    "print(b)\n",
    "print(\"\\n\")\n",
    "print(\"ACCESS WITH POSITION\")\n",
    "print(b[1:3])\n",
    "print(\"\\n\")\n",
    "print(b[-4::3])\n",
    "print(\"\\n\")\n",
    "print(\"ACCESS WITH INDEX\")\n",
    "c=n.Series(b,index=['a','b','n','m']) #it doesnot work due to it takes dublicate values of the series\n",
    "                                      #is copying to another varable c .so that's why it gives the output values as NAN \n",
    "print(c)\n",
    "print(c['m'])"
   ]
  },
  {
   "cell_type": "code",
   "execution_count": 12,
   "id": "2ce9a877",
   "metadata": {},
   "outputs": [
    {
     "name": "stdout",
     "output_type": "stream",
     "text": [
      "1    CS\n",
      "2    NM\n",
      "3    MV\n",
      "4    NS\n",
      "dtype: object\n"
     ]
    }
   ],
   "source": [
    "a=('CS','NM','MV','NS') \n",
    "b=n.Series(a,index=[1,2,3,4])\n",
    "print(b)"
   ]
  },
  {
   "cell_type": "markdown",
   "id": "c1fa9b6e",
   "metadata": {},
   "source": [
    "10,20,30,40\n",
    "0,1,2,3\n",
    "[0:2]"
   ]
  },
  {
   "cell_type": "code",
   "execution_count": 15,
   "id": "3dac2cb9",
   "metadata": {},
   "outputs": [
    {
     "name": "stdout",
     "output_type": "stream",
     "text": [
      "a    CS\n",
      "b    NM\n",
      "n    MV\n",
      "m    NS\n",
      "dtype: object\n",
      "NS\n"
     ]
    }
   ],
   "source": [
    "a=('CS','NM','MV','NS') \n",
    "b=n.Series(a,index=['a','b','n','m']) # here copying is not done only one variable is arranged \n",
    "                                     # in a series that only printed here without copying that \n",
    "                                      #series values into another values.\n",
    "print(b)\n",
    "print(b['m'])"
   ]
  },
  {
   "cell_type": "code",
   "execution_count": 16,
   "id": "abbb745b",
   "metadata": {},
   "outputs": [
    {
     "name": "stdout",
     "output_type": "stream",
     "text": [
      "[[ 1  2  3]\n",
      " [ 4  5  6]\n",
      " [ 7  8  9]\n",
      " [10 11 12]]\n",
      "\n",
      "\n",
      "After adding the values to all the 2d array elements we get as---\n",
      "\n",
      "\n",
      "[[ 2  2  4]\n",
      " [ 5  5  7]\n",
      " [ 8  8 10]\n",
      " [11 11 13]]\n"
     ]
    }
   ],
   "source": [
    "import numpy as n\n",
    "a=n.array((((1,2,3),(4,5,6),(7,8,9),(10,11,12))))\n",
    "b=n.array((1,0,1))\n",
    "c=n.empty_like(a)\n",
    "for i in range(4):\n",
    "    c[i,:]=a[i,:]+b\n",
    "print(a)\n",
    "print(\"\\n\")\n",
    "print(\"After adding the values to all the 2d array elements we get as---\")\n",
    "print(\"\\n\")\n",
    "print(c)"
   ]
  },
  {
   "cell_type": "code",
   "execution_count": 18,
   "id": "3d70e755",
   "metadata": {},
   "outputs": [
    {
     "ename": "ValueError",
     "evalue": "operands could not be broadcast together with shapes (4,3) (3,1) ",
     "output_type": "error",
     "traceback": [
      "\u001b[1;31m---------------------------------------------------------------------------\u001b[0m",
      "\u001b[1;31mValueError\u001b[0m                                Traceback (most recent call last)",
      "\u001b[1;32m<ipython-input-18-598fff9fd079>\u001b[0m in \u001b[0;36m<module>\u001b[1;34m\u001b[0m\n\u001b[0;32m      8\u001b[0m \u001b[1;33m\u001b[0m\u001b[0m\n\u001b[0;32m      9\u001b[0m \u001b[1;31m# Use broadcasting to add b to each row of a\u001b[0m\u001b[1;33m\u001b[0m\u001b[1;33m\u001b[0m\u001b[1;33m\u001b[0m\u001b[0m\n\u001b[1;32m---> 10\u001b[1;33m \u001b[0mc_broadcasted\u001b[0m \u001b[1;33m=\u001b[0m \u001b[0ma\u001b[0m \u001b[1;33m+\u001b[0m \u001b[0mb_expanded\u001b[0m\u001b[1;33m\u001b[0m\u001b[1;33m\u001b[0m\u001b[0m\n\u001b[0m\u001b[0;32m     11\u001b[0m \u001b[1;33m\u001b[0m\u001b[0m\n\u001b[0;32m     12\u001b[0m \u001b[0mprint\u001b[0m\u001b[1;33m(\u001b[0m\u001b[1;34m\"Original 2D array a:\"\u001b[0m\u001b[1;33m)\u001b[0m\u001b[1;33m\u001b[0m\u001b[1;33m\u001b[0m\u001b[0m\n",
      "\u001b[1;31mValueError\u001b[0m: operands could not be broadcast together with shapes (4,3) (3,1) "
     ]
    }
   ],
   "source": [
    "import numpy as np\n",
    "a= np.array(((1, 2, 3), (4, 5, 6), (7, 8, 9), (10, 11, 12)))\n",
    "b= np.array((1, 0, 1))\n",
    "# Expand the dimensions of b to match the shape of a\n",
    "b_expan = b[:, np.newaxis]\n",
    "# Use broadcasting to add b to each row of a\n",
    "c_broadcasted = a + b_expan\n",
    "print(\"Original 2D array a:\")\n",
    "print(a)\n",
    "print(\"\\n\")\n",
    "print(\"Broadcasted 3D array c:\")\n",
    "print(c_broadcasted)\n"
   ]
  },
  {
   "cell_type": "code",
   "execution_count": 21,
   "id": "436625fa",
   "metadata": {},
   "outputs": [
    {
     "name": "stdout",
     "output_type": "stream",
     "text": [
      " 2D array a:\n",
      "[[ 1  2  3]\n",
      " [ 4  5  6]\n",
      " [ 7  8  9]\n",
      " [10 11 12]]\n",
      "\n",
      "\n",
      "3D array c:\n",
      "[[ 2  2  4]\n",
      " [ 5  5  7]\n",
      " [ 8  8 10]\n",
      " [11 11 13]]\n"
     ]
    }
   ],
   "source": [
    "import numpy as n\n",
    "a = n.array(((1, 2, 3), (4, 5, 6), (7, 8, 9), (10, 11, 12)))\n",
    "b = n.array((1, 0, 1))\n",
    "# Convert b into a 2D array with the same number of rows as a\n",
    "b_2d = n.tile(b, (a.shape[0], 1)) # which will repeat the values of b 1d as 4 rows .and a.shape[0]-->4 rows ,1 -->coloumn indicate\n",
    "c= a + b_2d\n",
    "print(\" 2D array a:\")\n",
    "print(a)\n",
    "print(\"\\n\")\n",
    "print(\"3D array c:\")\n",
    "print(c)"
   ]
  },
  {
   "cell_type": "code",
   "execution_count": null,
   "id": "2e116b4a",
   "metadata": {},
   "outputs": [],
   "source": []
  }
 ],
 "metadata": {
  "kernelspec": {
   "display_name": "Python 3",
   "language": "python",
   "name": "python3"
  },
  "language_info": {
   "codemirror_mode": {
    "name": "ipython",
    "version": 3
   },
   "file_extension": ".py",
   "mimetype": "text/x-python",
   "name": "python",
   "nbconvert_exporter": "python",
   "pygments_lexer": "ipython3",
   "version": "3.8.8"
  }
 },
 "nbformat": 4,
 "nbformat_minor": 5
}
