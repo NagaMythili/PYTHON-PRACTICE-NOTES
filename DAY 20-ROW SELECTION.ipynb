{
 "cells": [
  {
   "cell_type": "markdown",
   "id": "96ee8ab2",
   "metadata": {},
   "source": [
    "# ROW SELECTION"
   ]
  },
  {
   "cell_type": "markdown",
   "id": "b475dfbd",
   "metadata": {},
   "source": [
    "we select a row based on index value by using -->loc[] by passing values in it."
   ]
  },
  {
   "cell_type": "code",
   "execution_count": 5,
   "id": "741491a1",
   "metadata": {},
   "outputs": [
    {
     "name": "stdout",
     "output_type": "stream",
     "text": [
      "   S.NO  ROLL NO   NAME  SUB1  SUB2 Grades\n",
      "0     1     1001  MYTHS    50    50      B\n",
      "1     2     1002    RAM    30    20      C\n",
      "2     3     1003   SITA    40    70      A\n",
      "3     4     1004  RUSHI    50    80     A+\n",
      "4     5     1005    DEV    50    50      B\n"
     ]
    }
   ],
   "source": [
    "import pandas as pd\n",
    "ds={'S.NO':pd.Series([1,2,3,4,5]),\n",
    "    'ROLL NO':pd.Series([1001,1002,1003,1004,1005]),\n",
    "    'NAME':pd.Series(['MYTHS','RAM','SITA','RUSHI','DEV']),\n",
    "    'SUB1':pd.Series([50,30,40,50,50]),\n",
    "    'SUB2':pd.Series([50,20,70,80,50]),\n",
    "   'Grades':pd.Series(['B','C','A','A+','B'])}\n",
    "df=pd.DataFrame(ds)\n",
    "print(df)"
   ]
  },
  {
   "cell_type": "code",
   "execution_count": 8,
   "id": "a8975be0",
   "metadata": {},
   "outputs": [
    {
     "name": "stdout",
     "output_type": "stream",
     "text": [
      "   S.NO  ROLL NO   NAME  SUB1  SUB2 Grades\n",
      "0     1     1001  MYTHS    50    50      B\n",
      "1     2     1002    RAM    30    20      C\n",
      "2     3     1003   SITA    40    70      A\n",
      "3     4     1004  RUSHI    50    80     A+\n",
      "4     5     1005    DEV    50    50      B\n",
      "----------------------------------------------\n",
      "--ROW SELECTION-----\n",
      "S.NO          5\n",
      "ROLL NO    1005\n",
      "NAME        DEV\n",
      "SUB1         50\n",
      "SUB2         50\n",
      "Grades        B\n",
      "Name: 4, dtype: object\n",
      "\n",
      "\n",
      "---To get two or more values as per the index -----\n",
      "S.NO           4\n",
      "ROLL NO     1004\n",
      "NAME       RUSHI\n",
      "SUB1          50\n",
      "SUB2          80\n",
      "Grades        A+\n",
      "Name: 3, dtype: object S.NO          5\n",
      "ROLL NO    1005\n",
      "NAME        DEV\n",
      "SUB1         50\n",
      "SUB2         50\n",
      "Grades        B\n",
      "Name: 4, dtype: object\n"
     ]
    }
   ],
   "source": [
    "import pandas as pd\n",
    "ds={'S.NO':pd.Series([1,2,3,4,5]),\n",
    "    'ROLL NO':pd.Series([1001,1002,1003,1004,1005]),\n",
    "    'NAME':pd.Series(['MYTHS','RAM','SITA','RUSHI','DEV']),\n",
    "    'SUB1':pd.Series([50,30,40,50,50]),\n",
    "    'SUB2':pd.Series([50,20,70,80,50]),\n",
    "   'Grades':pd.Series(['B','C','A','A+','B'])}\n",
    "df=pd.DataFrame(ds)\n",
    "print(df)\n",
    "print(\"----------------------------------------------\")\n",
    "print(\"--ROW SELECTION-----\")\n",
    "print(df.loc[4])\n",
    "print(\"\\n\")\n",
    "print(\"---To get two or more values as per the index -----\")\n",
    "print(df.loc[3],df.loc[4])"
   ]
  },
  {
   "cell_type": "markdown",
   "id": "9dbde04d",
   "metadata": {},
   "source": [
    "# ROW ADDITION\n",
    "WE USE loc [] FOR ADDING ROW VALUES."
   ]
  },
  {
   "cell_type": "code",
   "execution_count": 33,
   "id": "0da2c520",
   "metadata": {},
   "outputs": [
    {
     "name": "stdout",
     "output_type": "stream",
     "text": [
      "   S.NO  ROLL NO   NAME  SUB1  SUB2 Grades\n",
      "0     1     1001  MYTHS    50    50      B\n",
      "1     2     1002    RAM    30    20      C\n",
      "2     3     1003   SITA    40    70      A\n",
      "3     4     1004  RUSHI    50    80     A+\n",
      "4     5     1005    DEV    50    50      B\n",
      "----------------------------------------------\n",
      "----ROW ADDITION-----\n",
      "   S.NO  ROLL NO     NAME  SUB1  SUB2 Grades\n",
      "0     1     1001    MYTHS    50    50      B\n",
      "1     2     1002      RAM    30    20      C\n",
      "2     3     1003     SITA    40    70      A\n",
      "3     4     1004    RUSHI    50    80     A+\n",
      "4     5     1005      DEV    50    50      B\n",
      "5     6     1006  SRIKALA    60    80     A+\n"
     ]
    }
   ],
   "source": [
    "import pandas as pd\n",
    "ds={'S.NO':pd.Series([1,2,3,4,5]),\n",
    "    'ROLL NO':pd.Series([1001,1002,1003,1004,1005]),\n",
    "    'NAME':pd.Series(['MYTHS','RAM','SITA','RUSHI','DEV']),\n",
    "    'SUB1':pd.Series([50,30,40,50,50]),\n",
    "    'SUB2':pd.Series([50,20,70,80,50]),\n",
    "   'Grades':pd.Series(['B','C','A','A+','B'])}\n",
    "df=pd.DataFrame(ds)\n",
    "print(df)\n",
    "print(\"----------------------------------------------\")\n",
    "print(\"----ROW ADDITION-----\")\n",
    "df.loc[5]=[6,1006,'SRIKALA',60,80,'A+']\n",
    "print(df)"
   ]
  },
  {
   "cell_type": "markdown",
   "id": "f7114f60",
   "metadata": {},
   "source": [
    "# ROW DELETION  \n",
    "we use to delete a row by using the     \n",
    "\"drop(index)\""
   ]
  },
  {
   "cell_type": "code",
   "execution_count": 36,
   "id": "ec9a6f03",
   "metadata": {},
   "outputs": [
    {
     "name": "stdout",
     "output_type": "stream",
     "text": [
      "   S.NO  ROLL NO   NAME  SUB1  SUB2 Grades\n",
      "0     1     1001  MYTHS    50    50      B\n",
      "1     2     1002    RAM    30    20      C\n",
      "2     3     1003   SITA    40    70      A\n",
      "3     4     1004  RUSHI    50    80     A+\n",
      "4     5     1005    DEV    50    50      B\n",
      "S.NO       5\n",
      "ROLL NO    5\n",
      "NAME       5\n",
      "SUB1       5\n",
      "SUB2       5\n",
      "Grades     5\n",
      "dtype: int64\n",
      "\n",
      "\n",
      "----------------------------------\n",
      "----ROW DELETION--------\n",
      "   S.NO  ROLL NO   NAME  SUB1  SUB2 Grades\n",
      "0     1     1001  MYTHS    50    50      B\n",
      "1     2     1002    RAM    30    20      C\n",
      "2     3     1003   SITA    40    70      A\n",
      "3     4     1004  RUSHI    50    80     A+\n"
     ]
    }
   ],
   "source": [
    "import pandas as pd\n",
    "ds={'S.NO':pd.Series([1,2,3,4,5]),\n",
    "    'ROLL NO':pd.Series([1001,1002,1003,1004,1005]),\n",
    "    'NAME':pd.Series(['MYTHS','RAM','SITA','RUSHI','DEV']),\n",
    "    'SUB1':pd.Series([50,30,40,50,50]),\n",
    "    'SUB2':pd.Series([50,20,70,80,50]),\n",
    "   'Grades':pd.Series(['B','C','A','A+','B'])}\n",
    "df=pd.DataFrame(ds)\n",
    "print(df)\n",
    "print(df.count())\n",
    "print(\"\\n\")\n",
    "print(\"----------------------------------\")\n",
    "print(\"----ROW DELETION--------\")\n",
    "print(df.drop(4))"
   ]
  },
  {
   "cell_type": "markdown",
   "id": "c16b6d32",
   "metadata": {},
   "source": [
    "# ReIndexing\n",
    "Re-assign the index values which are Already Assigned"
   ]
  },
  {
   "cell_type": "markdown",
   "id": "e9faae50",
   "metadata": {},
   "source": [
    "TYPES OF REINDEXING ARE    \n",
    "1.ROW REINDEXING    \n",
    "2.COLUMKN INDEXING"
   ]
  },
  {
   "cell_type": "markdown",
   "id": "6aa4693d",
   "metadata": {},
   "source": [
    "# ROW INDEXING  \n",
    "Where we reassign the index of each row by specifying the new index values with keyword--->index[values]."
   ]
  },
  {
   "cell_type": "code",
   "execution_count": 29,
   "id": "4840bdf6",
   "metadata": {},
   "outputs": [
    {
     "name": "stdout",
     "output_type": "stream",
     "text": [
      "\n",
      "     S.NO  ROLL NO NAME  SUB1  SUB2 Grades\n",
      "i     NaN      NaN  NaN   NaN   NaN    NaN\n",
      "ii    NaN      NaN  NaN   NaN   NaN    NaN\n",
      "iii   NaN      NaN  NaN   NaN   NaN    NaN\n",
      "iv    NaN      NaN  NaN   NaN   NaN    NaN\n",
      "v     NaN      NaN  NaN   NaN   NaN    NaN\n"
     ]
    }
   ],
   "source": [
    "import pandas as pd\n",
    "ds={'S.NO':pd.Series([1,2,3,4,5]),\n",
    "    'ROLL NO':pd.Series([1001,1002,1003,1004,1005]),\n",
    "    'NAME':pd.Series(['MYTHS','RAM','SITA','RUSHI','DEV']),\n",
    "    'SUB1':pd.Series([50,30,40,50,50]),\n",
    "    'SUB2':pd.Series([50,20,70,80,50]),\n",
    "   'Grades':pd.Series(['B','C','A','A+','B'])}\n",
    "df=pd.DataFrame(ds,index=['i','ii','iii','iv','v']) \n",
    "# here we get the output as \"NaN\" as values in output because the index we are reassigning doesn't know to assign where for all each row without specifying to each.\n",
    "print()\n",
    "print(df)"
   ]
  },
  {
   "cell_type": "code",
   "execution_count": 20,
   "id": "a30fb8f4",
   "metadata": {},
   "outputs": [
    {
     "name": "stdout",
     "output_type": "stream",
     "text": [
      "     S.NO  ROLL NO   NAME  SUB1  SUB2 Grades\n",
      "101     1     1001  MYTHS    50    50      B\n",
      "102     2     1002    RAM    30    20      C\n",
      "103     3     1003   SITA    40    70      A\n",
      "104     4     1004  RUSHI    50    80     A+\n",
      "105     5     1005    DEV    50    50      B\n"
     ]
    }
   ],
   "source": [
    "import pandas as pd\n",
    "ds={'S.NO':pd.Series([1,2,3,4,5],index=[101,102,103,104,105]),\n",
    "    'ROLL NO':pd.Series([1001,1002,1003,1004,1005],index=[101,102,103,104,105]),\n",
    "    'NAME':pd.Series(['MYTHS','RAM','SITA','RUSHI','DEV'],index=[101,102,103,104,105]),\n",
    "    'SUB1':pd.Series([50,30,40,50,50],index=[101,102,103,104,105]),\n",
    "    'SUB2':pd.Series([50,20,70,80,50],index=[101,102,103,104,105]),\n",
    "   'Grades':pd.Series(['B','C','A','A+','B'],index=[101,102,103,104,105])}\n",
    "df=pd.DataFrame(ds)\n",
    "print(df)           # here we are reassigning the indexes of each row with new index values of same."
   ]
  },
  {
   "cell_type": "code",
   "execution_count": 30,
   "id": "41bd70fc",
   "metadata": {},
   "outputs": [
    {
     "name": "stdout",
     "output_type": "stream",
     "text": [
      "     S.NO  ROLL NO   NAME  SUB1  SUB2 Grades\n",
      "101     1     1001  MYTHS    50    50      B\n",
      "102     2     1002    RAM    30    20      C\n",
      "103     3     1003   SITA    40    70      A\n",
      "104     4     1004  RUSHI    50    80     A+\n",
      "105     5     1005    DEV    50    50      B\n"
     ]
    }
   ],
   "source": [
    "#here to remove those nan valuesw we go with shallow copy to duplicate the original by its reference values.\n",
    "import pandas as pd\n",
    "ds={'S.NO':pd.Series([1,2,3,4,5],index=[101,102,103,104,105]),\n",
    "    'ROLL NO':pd.Series([1001,1002,1003,1004,1005],index=[101,102,103,104,105]),\n",
    "    'NAME':pd.Series(['MYTHS','RAM','SITA','RUSHI','DEV'],index=[101,102,103,104,105]),\n",
    "    'SUB1':pd.Series([50,30,40,50,50],index=[101,102,103,104,105]),\n",
    "    'SUB2':pd.Series([50,20,70,80,50],index=[101,102,103,104,105]),\n",
    "   'Grades':pd.Series(['B','C','A','A+','B'],index=[101,102,103,104,105])}\n",
    "df=pd.DataFrame(ds)\n",
    "sc=df.copy(deep=False)\n",
    "x=sc.reindex([101,102,103,104,105]) # re assigning the new indexes where we given each values to be represent.\n",
    "print(x)"
   ]
  },
  {
   "cell_type": "markdown",
   "id": "7b822c9d",
   "metadata": {},
   "source": [
    "# COLUMN INDEXING   \n",
    "here we are rearraging the columns by re assigning their respective column names in such a way as per the data needs."
   ]
  },
  {
   "cell_type": "code",
   "execution_count": 21,
   "id": "c3e324b4",
   "metadata": {},
   "outputs": [
    {
     "name": "stdout",
     "output_type": "stream",
     "text": [
      "     S.NO  ROLL NO   NAME  SUB1  SUB2 Grades\n",
      "101     1     1001  MYTHS    50    50      B\n",
      "102     2     1002    RAM    30    20      C\n",
      "103     3     1003   SITA    40    70      A\n",
      "104     4     1004  RUSHI    50    80     A+\n",
      "105     5     1005    DEV    50    50      B\n",
      "-------------------------------------------------\n",
      "     ROLL NO   NAME  S.NO\n",
      "101     1001  MYTHS     1\n",
      "102     1002    RAM     2\n",
      "103     1003   SITA     3\n",
      "104     1004  RUSHI     4\n",
      "105     1005    DEV     5\n"
     ]
    }
   ],
   "source": [
    "import pandas as pd\n",
    "ds={'S.NO':pd.Series([1,2,3,4,5],index=[101,102,103,104,105]),\n",
    "    'ROLL NO':pd.Series([1001,1002,1003,1004,1005],index=[101,102,103,104,105]),\n",
    "    'NAME':pd.Series(['MYTHS','RAM','SITA','RUSHI','DEV'],index=[101,102,103,104,105]),\n",
    "    'SUB1':pd.Series([50,30,40,50,50],index=[101,102,103,104,105]),\n",
    "    'SUB2':pd.Series([50,20,70,80,50],index=[101,102,103,104,105]),\n",
    "   'Grades':pd.Series(['B','C','A','A+','B'],index=[101,102,103,104,105])}\n",
    "df=pd.DataFrame(ds)\n",
    "print(df)\n",
    "print(\"-------------------------------------------------\")\n",
    "print(df.reindex(['ROLL NO','NAME','S.NO'],axis='columns'))"
   ]
  },
  {
   "cell_type": "markdown",
   "id": "41780ca4",
   "metadata": {},
   "source": [
    "# DESCRIBE()"
   ]
  },
  {
   "cell_type": "code",
   "execution_count": 23,
   "id": "adc44a97",
   "metadata": {},
   "outputs": [
    {
     "name": "stdout",
     "output_type": "stream",
     "text": [
      "   S.NO  ROLL NO   NAME  SUB1  SUB2 Grades\n",
      "0     1     1001  MYTHS    50    50      B\n",
      "1     2     1002    RAM    30    20      C\n",
      "2     3     1003   SITA    40    70      A\n",
      "3     4     1004  RUSHI    50    80     A+\n",
      "4     5     1005    DEV    50    50      B\n",
      "------------- ----Describe()----------------------\n",
      "           S.NO      ROLL NO       SUB1       SUB2\n",
      "count  5.000000     5.000000   5.000000   5.000000\n",
      "mean   3.000000  1003.000000  44.000000  54.000000\n",
      "std    1.581139     1.581139   8.944272  23.021729\n",
      "min    1.000000  1001.000000  30.000000  20.000000\n",
      "25%    2.000000  1002.000000  40.000000  50.000000\n",
      "50%    3.000000  1003.000000  50.000000  50.000000\n",
      "75%    4.000000  1004.000000  50.000000  70.000000\n",
      "max    5.000000  1005.000000  50.000000  80.000000\n"
     ]
    }
   ],
   "source": [
    "import pandas as pd\n",
    "ds={'S.NO':pd.Series([1,2,3,4,5]),\n",
    "    'ROLL NO':pd.Series([1001,1002,1003,1004,1005]),\n",
    "    'NAME':pd.Series(['MYTHS','RAM','SITA','RUSHI','DEV']),\n",
    "    'SUB1':pd.Series([50,30,40,50,50]),\n",
    "    'SUB2':pd.Series([50,20,70,80,50]),\n",
    "   'Grades':pd.Series(['B','C','A','A+','B'])}\n",
    "df=pd.DataFrame(ds)\n",
    "print(df)\n",
    "print(\"------------- ----Describe()----------------------\")\n",
    "print(df.describe())"
   ]
  },
  {
   "cell_type": "markdown",
   "id": "77997dea",
   "metadata": {},
   "source": [
    "# head()    \n",
    "which returns top of the values \n",
    "and here we can pass the value in the funtion of head() from where to where the data to get from top to bottom from specified index positions."
   ]
  },
  {
   "cell_type": "code",
   "execution_count": 24,
   "id": "a68d6a23",
   "metadata": {},
   "outputs": [
    {
     "name": "stdout",
     "output_type": "stream",
     "text": [
      "   S.NO  ROLL NO   NAME  SUB1  SUB2 Grades\n",
      "0     1     1001  MYTHS    50    50      B\n",
      "1     2     1002    RAM    30    20      C\n",
      "2     3     1003   SITA    40    70      A\n",
      "3     4     1004  RUSHI    50    80     A+\n",
      "4     5     1005    DEV    50    50      B\n",
      "------------- ----head()----------------------\n",
      "   S.NO  ROLL NO   NAME  SUB1  SUB2 Grades\n",
      "0     1     1001  MYTHS    50    50      B\n",
      "1     2     1002    RAM    30    20      C\n",
      "2     3     1003   SITA    40    70      A\n"
     ]
    }
   ],
   "source": [
    "import pandas as pd\n",
    "ds={'S.NO':pd.Series([1,2,3,4,5]),\n",
    "    'ROLL NO':pd.Series([1001,1002,1003,1004,1005]),\n",
    "    'NAME':pd.Series(['MYTHS','RAM','SITA','RUSHI','DEV']),\n",
    "    'SUB1':pd.Series([50,30,40,50,50]),\n",
    "    'SUB2':pd.Series([50,20,70,80,50]),\n",
    "   'Grades':pd.Series(['B','C','A','A+','B'])}\n",
    "df=pd.DataFrame(ds)\n",
    "print(df)\n",
    "print(\"------------- ----head()----------------------\")\n",
    "print(df.head(3))"
   ]
  },
  {
   "cell_type": "markdown",
   "id": "4227579e",
   "metadata": {},
   "source": [
    "# tail()    \n",
    "which will give the output from bottom to top"
   ]
  },
  {
   "cell_type": "code",
   "execution_count": 27,
   "id": "952b0845",
   "metadata": {},
   "outputs": [
    {
     "name": "stdout",
     "output_type": "stream",
     "text": [
      "   S.NO  ROLL NO   NAME  SUB1  SUB2 Grades\n",
      "0     1     1001  MYTHS    50    50      B\n",
      "1     2     1002    RAM    30    20      C\n",
      "2     3     1003   SITA    40    70      A\n",
      "3     4     1004  RUSHI    50    80     A+\n",
      "4     5     1005    DEV    50    50      B\n",
      "------------- ----tail()----------------------\n",
      "   S.NO  ROLL NO   NAME  SUB1  SUB2 Grades\n",
      "0     1     1001  MYTHS    50    50      B\n",
      "1     2     1002    RAM    30    20      C\n",
      "2     3     1003   SITA    40    70      A\n",
      "3     4     1004  RUSHI    50    80     A+\n",
      "4     5     1005    DEV    50    50      B\n",
      "\n",
      "\n",
      "-------------------tail() with value -----------\n",
      "   S.NO  ROLL NO   NAME  SUB1  SUB2 Grades\n",
      "1     2     1002    RAM    30    20      C\n",
      "2     3     1003   SITA    40    70      A\n",
      "3     4     1004  RUSHI    50    80     A+\n",
      "4     5     1005    DEV    50    50      B\n"
     ]
    }
   ],
   "source": [
    "import pandas as pd\n",
    "ds={'S.NO':pd.Series([1,2,3,4,5]),\n",
    "    'ROLL NO':pd.Series([1001,1002,1003,1004,1005]),\n",
    "    'NAME':pd.Series(['MYTHS','RAM','SITA','RUSHI','DEV']),\n",
    "    'SUB1':pd.Series([50,30,40,50,50]),\n",
    "    'SUB2':pd.Series([50,20,70,80,50]),\n",
    "   'Grades':pd.Series(['B','C','A','A+','B'])}\n",
    "df=pd.DataFrame(ds)\n",
    "print(df)\n",
    "print(\"------------- ----tail()----------------------\")\n",
    "print(df.tail())\n",
    "print(\"\\n\")\n",
    "print(\"-------------------tail() with value -----------\")\n",
    "print(df.tail(4))"
   ]
  },
  {
   "cell_type": "code",
   "execution_count": null,
   "id": "f64a32b7",
   "metadata": {},
   "outputs": [],
   "source": []
  }
 ],
 "metadata": {
  "kernelspec": {
   "display_name": "Python 3",
   "language": "python",
   "name": "python3"
  },
  "language_info": {
   "codemirror_mode": {
    "name": "ipython",
    "version": 3
   },
   "file_extension": ".py",
   "mimetype": "text/x-python",
   "name": "python",
   "nbconvert_exporter": "python",
   "pygments_lexer": "ipython3",
   "version": "3.8.8"
  }
 },
 "nbformat": 4,
 "nbformat_minor": 5
}
