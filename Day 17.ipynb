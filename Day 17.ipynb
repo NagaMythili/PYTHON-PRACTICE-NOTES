{
 "cells": [
  {
   "cell_type": "markdown",
   "id": "e0fb812e",
   "metadata": {},
   "source": [
    "# INDEXING OR SELECTING == SLICING\n",
    "    --> We are trying to select some elements among group of elements using slicing operation,Before we need to do\"INDEXING\"        \n",
    "          1.  \".loc[ ]\"                          \n",
    "          2.  \".iloc[ ]\""
   ]
  },
  {
   "cell_type": "markdown",
   "id": "fee3e542",
   "metadata": {},
   "source": [
    "# .loc[]\n",
    "  --->A .loc[] is a Method which is used for get a Sub-Part of a Series.             \n",
    "  Formula == .loc[Start(includes): End(includes)]"
   ]
  },
  {
   "cell_type": "code",
   "execution_count": 2,
   "id": "1149aff3",
   "metadata": {},
   "outputs": [
    {
     "name": "stdout",
     "output_type": "stream",
     "text": [
      "0    10\n",
      "1    20\n",
      "2    30\n",
      "3    40\n",
      "4    50\n",
      "dtype: int64\n",
      "Series([], dtype: int64)\n"
     ]
    }
   ],
   "source": [
    "import pandas as pd\n",
    "a=[10,20,30,40,50]\n",
    "b=pd.Series(a)\n",
    "print(b)\n",
    "print(b.loc[1:-3])"
   ]
  },
  {
   "cell_type": "markdown",
   "id": "8ffd6d67",
   "metadata": {},
   "source": [
    "# .iloc[]\n",
    "    --> A .iloc[] is a method in which the end values is excluded           \n",
    "       Formula == .iloc[Start (include): End+1  (exclude)]\n",
    "            "
   ]
  },
  {
   "cell_type": "code",
   "execution_count": 3,
   "id": "cdeb5d2f",
   "metadata": {},
   "outputs": [
    {
     "name": "stdout",
     "output_type": "stream",
     "text": [
      "0    10\n",
      "1    20\n",
      "2    30\n",
      "3    40\n",
      "4    50\n",
      "dtype: int64\n",
      "1    20\n",
      "dtype: int64\n"
     ]
    }
   ],
   "source": [
    "import pandas as pd\n",
    "a=[10,20,30,40,50]\n",
    "b=pd.Series(a)\n",
    "print(b)\n",
    "print(b.iloc[1:-3])"
   ]
  },
  {
   "cell_type": "code",
   "execution_count": null,
   "id": "6c2b1e6e",
   "metadata": {},
   "outputs": [],
   "source": []
  }
 ],
 "metadata": {
  "kernelspec": {
   "display_name": "Python 3",
   "language": "python",
   "name": "python3"
  },
  "language_info": {
   "codemirror_mode": {
    "name": "ipython",
    "version": 3
   },
   "file_extension": ".py",
   "mimetype": "text/x-python",
   "name": "python",
   "nbconvert_exporter": "python",
   "pygments_lexer": "ipython3",
   "version": "3.8.8"
  }
 },
 "nbformat": 4,
 "nbformat_minor": 5
}
