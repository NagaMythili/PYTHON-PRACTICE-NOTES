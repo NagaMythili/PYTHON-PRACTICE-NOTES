{
 "cells": [
  {
   "cell_type": "markdown",
   "id": "68e36335",
   "metadata": {},
   "source": [
    "# ANALYZING DATA  ---> Scrutinizing  the data \n",
    "\n",
    "in this phase we have :                 \n",
    "    1.Viewing Data                     \n",
    "    2.Info about Data                          \n",
    "    3.Data Munging                        \n",
    "    4.Data Filtering                        \n",
    "    5.Data Merging                  \n",
    "    6.Data Reshaping                      \n",
    "    7.Data Aggregation                     \n",
    "    8.Data Grouping                        "
   ]
  },
  {
   "cell_type": "markdown",
   "id": "d385d4fe",
   "metadata": {},
   "source": [
    "# VIEWING DATA           \n",
    "----> View the format or Structure of Data Frame.      \n",
    "operation we perform here are:      \n",
    "describe()         \n",
    "head()      \n",
    "tail()    "
   ]
  },
  {
   "cell_type": "code",
   "execution_count": 32,
   "id": "c3e7adf5",
   "metadata": {},
   "outputs": [
    {
     "name": "stdout",
     "output_type": "stream",
     "text": [
      "   S.NO  ROLL NO   NAME  SUB1  SUB2 Grades  RESULT\n",
      "0     1     1001  MYTHS    50    50      B     100\n",
      "1     2     1002    RAM    30    20      C      50\n",
      "2     3     1003   SITA    40    70      A     110\n",
      "3     4     1004  RUSHI    50    80     A+     130\n",
      "4     5     1005    DEV    50    50      B     100\n",
      "\n",
      "\n",
      "           S.NO      ROLL NO       SUB1       SUB2      RESULT\n",
      "count  5.000000     5.000000   5.000000   5.000000    5.000000\n",
      "mean   3.000000  1003.000000  44.000000  54.000000   98.000000\n",
      "std    1.581139     1.581139   8.944272  23.021729   29.495762\n",
      "min    1.000000  1001.000000  30.000000  20.000000   50.000000\n",
      "25%    2.000000  1002.000000  40.000000  50.000000  100.000000\n",
      "50%    3.000000  1003.000000  50.000000  50.000000  100.000000\n",
      "75%    4.000000  1004.000000  50.000000  70.000000  110.000000\n",
      "max    5.000000  1005.000000  50.000000  80.000000  130.000000\n",
      "\n",
      "\n",
      "   S.NO  ROLL NO   NAME  SUB1  SUB2 Grades  RESULT\n",
      "0     1     1001  MYTHS    50    50      B     100\n",
      "1     2     1002    RAM    30    20      C      50\n",
      "2     3     1003   SITA    40    70      A     110\n",
      "3     4     1004  RUSHI    50    80     A+     130\n",
      "4     5     1005    DEV    50    50      B     100\n",
      "\n",
      "\n",
      "   S.NO  ROLL NO   NAME  SUB1  SUB2 Grades  RESULT\n",
      "0     1     1001  MYTHS    50    50      B     100\n",
      "1     2     1002    RAM    30    20      C      50\n",
      "2     3     1003   SITA    40    70      A     110\n",
      "3     4     1004  RUSHI    50    80     A+     130\n",
      "4     5     1005    DEV    50    50      B     100\n"
     ]
    }
   ],
   "source": [
    "import pandas as pd\n",
    "ds={'S.NO':pd.Series([1,2,3,4,5]),\n",
    "    'ROLL NO':pd.Series([1001,1002,1003,1004,1005]),\n",
    "    'NAME':pd.Series(['MYTHS','RAM','SITA','RUSHI','DEV']),\n",
    "    'SUB1':pd.Series([50,30,40,50,50]),\n",
    "    'SUB2':pd.Series([50,20,70,80,50]),\n",
    "   'Grades':pd.Series(['B','C','A','A+','B'])}\n",
    "df=pd.DataFrame(ds)\n",
    "df['RESULT']=df['SUB1']+df['SUB2']\n",
    "print(df)\n",
    "x=df.describe()\n",
    "print(\"\\n\")\n",
    "print(x)\n",
    "print(\"\\n\")\n",
    "y=df.head()\n",
    "print(y)# by deafault it takes first 5 records\n",
    "print(\"\\n\")\n",
    "z=df.tail()\n",
    "print(z)"
   ]
  },
  {
   "cell_type": "code",
   "execution_count": 8,
   "id": "398e7d61",
   "metadata": {},
   "outputs": [
    {
     "name": "stdout",
     "output_type": "stream",
     "text": [
      "<class 'pandas.core.frame.DataFrame'>\n",
      "RangeIndex: 5 entries, 0 to 4\n",
      "Data columns (total 7 columns):\n",
      " #   Column   Non-Null Count  Dtype \n",
      "---  ------   --------------  ----- \n",
      " 0   S.NO     5 non-null      int64 \n",
      " 1   ROLL NO  5 non-null      int64 \n",
      " 2   NAME     5 non-null      object\n",
      " 3   SUB1     5 non-null      int64 \n",
      " 4   SUB2     5 non-null      int64 \n",
      " 5   Grades   5 non-null      object\n",
      " 6   RESULT   5 non-null      int64 \n",
      "dtypes: int64(5), object(2)\n",
      "memory usage: 408.0+ bytes\n"
     ]
    }
   ],
   "source": [
    "df.info()"
   ]
  },
  {
   "cell_type": "markdown",
   "id": "9463ea2c",
   "metadata": {},
   "source": [
    "# DATA MUNGING              \n",
    "----> It is a process of Gathering all information regards Data Set.That is Collection of Data Set for Transforming Raw Data to another Format for performing better Operations & Easy to understand.\"DATA MUNGING is also known as DATA WRANGLING.\""
   ]
  },
  {
   "cell_type": "markdown",
   "id": "74c4084e",
   "metadata": {},
   "source": [
    "# DATA FILTERING   \n",
    "   ---->It is a Process of getting Required Information from Dataset is known as Filtering.\n",
    "         and in this method we can't perform operations correclty."
   ]
  },
  {
   "cell_type": "code",
   "execution_count": 10,
   "id": "13bf6dad",
   "metadata": {},
   "outputs": [
    {
     "name": "stdout",
     "output_type": "stream",
     "text": [
      "   S.NO  ROLL NO   NAME  SUB1  SUB2 Grades  RESULT\n",
      "0     1     1001  MYTHS    50    50      B     100\n",
      "1     2     1002    RAM    30    20      C      50\n",
      "2     3     1003   SITA    40    70      A     110\n",
      "3     4     1004  RUSHI    50    80     A+     130\n",
      "4     5     1005    DEV    50    50      B     100\n",
      "\n",
      "\n",
      "----------APPLYING FILTERING------------------------------\n",
      "0     True\n",
      "1    False\n",
      "2     True\n",
      "3     True\n",
      "4     True\n",
      "Name: RESULT, dtype: bool\n"
     ]
    }
   ],
   "source": [
    "import pandas as pd\n",
    "ds={'S.NO':pd.Series([1,2,3,4,5]),\n",
    "    'ROLL NO':pd.Series([1001,1002,1003,1004,1005]),\n",
    "    'NAME':pd.Series(['MYTHS','RAM','SITA','RUSHI','DEV']),\n",
    "    'SUB1':pd.Series([50,30,40,50,50]),\n",
    "    'SUB2':pd.Series([50,20,70,80,50]),\n",
    "   'Grades':pd.Series(['B','C','A','A+','B'])}\n",
    "df=pd.DataFrame(ds)\n",
    "df['RESULT']=df['SUB1']+df['SUB2']\n",
    "print(df)\n",
    "print(\"\\n\")\n",
    "print(\"----------APPLYING FILTERING------------------------------\")\n",
    "X=df['RESULT']>=100\n",
    "print(X)     "
   ]
  },
  {
   "cell_type": "code",
   "execution_count": 13,
   "id": "7d616324",
   "metadata": {},
   "outputs": [
    {
     "name": "stdout",
     "output_type": "stream",
     "text": [
      "   S.NO  ROLL NO   NAME  SUB1  SUB2 Grades  RESULT\n",
      "0     1     1001  MYTHS    50    50      B     100\n",
      "1     2     1002    RAM    30    20      C      50\n",
      "2     3     1003   SITA    40    70      A     110\n",
      "3     4     1004  RUSHI    50    80     A+     130\n",
      "4     5     1005    DEV    50    50      B     100\n",
      "\n",
      "\n",
      "----------APPLYING FILTERING------------------------------\n",
      "\n",
      "\n",
      "   S.NO  ROLL NO   NAME  SUB1  SUB2 Grades  RESULT\n",
      "0     1     1001  MYTHS    50    50      B     100\n",
      "2     3     1003   SITA    40    70      A     110\n",
      "3     4     1004  RUSHI    50    80     A+     130\n",
      "4     5     1005    DEV    50    50      B     100\n",
      "\n",
      "\n",
      "-------------copying to another to perform filtering------------\n",
      "\n",
      "\n",
      "   S.NO  ROLL NO NAME  SUB1  SUB2 Grades  RESULT\n",
      "1     2     1002  RAM    30    20      C      50\n"
     ]
    }
   ],
   "source": [
    "# after copying the data we can go with filtering.\n",
    "import pandas as pd\n",
    "ds={'S.NO':pd.Series([1,2,3,4,5]),\n",
    "    'ROLL NO':pd.Series([1001,1002,1003,1004,1005]),\n",
    "    'NAME':pd.Series(['MYTHS','RAM','SITA','RUSHI','DEV']),\n",
    "    'SUB1':pd.Series([50,30,40,50,50]),\n",
    "    'SUB2':pd.Series([50,20,70,80,50]),\n",
    "   'Grades':pd.Series(['B','C','A','A+','B'])}\n",
    "df=pd.DataFrame(ds)\n",
    "df['RESULT']=df['SUB1']+df['SUB2']\n",
    "print(df)\n",
    "print(\"\\n\")\n",
    "print(\"----------APPLYING FILTERING------------------------------\")\n",
    "print(\"\\n\")\n",
    "X=df[df['RESULT']>=100].copy()\n",
    "print(X) \n",
    "print(\"\\n\")\n",
    "print(\"-------------copying to another to perform filtering------------\")\n",
    "print(\"\\n\")\n",
    "y=df[df['RESULT']<=50].copy()\n",
    "print(y)"
   ]
  },
  {
   "cell_type": "markdown",
   "id": "f6e5b459",
   "metadata": {},
   "source": [
    "# DATA MERGING   \n",
    "  ---->It is a process of Combining 2 datasets into a single dataset.       \n",
    "        here we use the method:            \n",
    "            merge(DataFrame1,DataFrame2,on=\"field\")               \n",
    "            # field nothing but id-- index"
   ]
  },
  {
   "cell_type": "code",
   "execution_count": 30,
   "id": "c887600e",
   "metadata": {},
   "outputs": [
    {
     "name": "stdout",
     "output_type": "stream",
     "text": [
      "   S.NO   NAME  STUDY\n",
      "0     1  MYTHS  BTECH\n",
      "1     2    RAM  MTECH\n",
      "2     3   SITA    MBA\n",
      "3     4  RUSHI    MCA\n",
      "4     5    DEV    DIP\n",
      "\n",
      "\n",
      "-----------data merging----------------------------\n",
      "\n",
      "\n",
      "   S.NO     NAME STUDY\n",
      "0     1      Sri   CEO\n",
      "1     2     NANI   CSO\n",
      "2     3    MADHU   CGO\n",
      "3     4  CHANDHU   CTO\n",
      "4     5   NANDHU   CLO\n",
      "\n",
      "\n",
      "-----------data merging-OPERATION--------------------------\n",
      "\n",
      "\n",
      "   S.NO NAME_x STUDY_x   NAME_y STUDY_y\n",
      "0     1  MYTHS   BTECH      Sri     CEO\n",
      "1     2    RAM   MTECH     NANI     CSO\n",
      "2     3   SITA     MBA    MADHU     CGO\n",
      "3     4  RUSHI     MCA  CHANDHU     CTO\n",
      "4     5    DEV     DIP   NANDHU     CLO\n"
     ]
    }
   ],
   "source": [
    "import pandas as pd\n",
    "ds={'S.NO':pd.Series([1,2,3,4,5]),\n",
    "    'NAME':pd.Series(['MYTHS','RAM','SITA','RUSHI','DEV']),\n",
    "    'STUDY':pd.Series(['BTECH','MTECH','MBA','MCA','DIP'])}\n",
    "DF=pd.DataFrame(ds)\n",
    "print(DF)\n",
    "print(\"\\n\")\n",
    "print(\"-----------data merging----------------------------\")\n",
    "print(\"\\n\")\n",
    "ds1={'S.NO':pd.Series([1,2,3,4,5]),\n",
    "    'NAME':pd.Series(['Sri','NANI','MADHU','CHANDHU','NANDHU']),\n",
    "    'STUDY':pd.Series(['CEO','CSO','CGO','CTO','CLO'])}\n",
    "df1=pd.DataFrame(ds1)\n",
    "print(df1)\n",
    "print(\"\\n\")\n",
    "print(\"-----------data merging-OPERATION--------------------------\")\n",
    "print(\"\\n\")\n",
    "print(pd.merge(DF,df1,on='S.NO'))"
   ]
  },
  {
   "cell_type": "markdown",
   "id": "570e0ce0",
   "metadata": {},
   "source": [
    "# DATA RESHAPING         \n",
    "  ------>Data reshaping is restructuring a datasets layout to better suit analysis, often involving changes in rows, columns, and summarization.   \n",
    "   ---->the reshaping process is being done using the melt() function.       \n",
    "------> Pandas provides methods like `melt()` for unpivoting and `pivot_table()` for pivoting, enabling efficient data reshaping in Python.   "
   ]
  },
  {
   "cell_type": "code",
   "execution_count": 33,
   "id": "96ddc1f9",
   "metadata": {},
   "outputs": [
    {
     "name": "stdout",
     "output_type": "stream",
     "text": [
      "   S.NO  ROLL NO   NAME  SUB1  SUB2 Grades  RESULT\n",
      "0     1     1001  MYTHS    50    50      B     100\n",
      "1     2     1002    RAM    30    20      C      50\n",
      "2     3     1003   SITA    40    70      A     110\n",
      "3     4     1004  RUSHI    50    80     A+     130\n",
      "4     5     1005    DEV    50    50      B     100\n",
      "\n",
      "\n",
      "----------------------performing reshaping-------------------------\n",
      "\n",
      "\n",
      "   S.NO  ROLL NO   NAME Grades  RESULT Subject  Score\n",
      "0     1     1001  MYTHS      B     100    SUB1     50\n",
      "1     2     1002    RAM      C      50    SUB1     30\n",
      "2     3     1003   SITA      A     110    SUB1     40\n",
      "3     4     1004  RUSHI     A+     130    SUB1     50\n",
      "4     5     1005    DEV      B     100    SUB1     50\n",
      "5     1     1001  MYTHS      B     100    SUB2     50\n",
      "6     2     1002    RAM      C      50    SUB2     20\n",
      "7     3     1003   SITA      A     110    SUB2     70\n",
      "8     4     1004  RUSHI     A+     130    SUB2     80\n",
      "9     5     1005    DEV      B     100    SUB2     50\n"
     ]
    }
   ],
   "source": [
    "import pandas as pd\n",
    "\n",
    "ds = {\n",
    "    'S.NO': pd.Series([1, 2, 3, 4, 5]),\n",
    "    'ROLL NO': pd.Series([1001, 1002, 1003, 1004, 1005]),\n",
    "    'NAME': pd.Series(['MYTHS', 'RAM', 'SITA', 'RUSHI', 'DEV']),\n",
    "    'SUB1': pd.Series([50, 30, 40, 50, 50]),\n",
    "    'SUB2': pd.Series([50, 20, 70, 80, 50]),\n",
    "    'Grades': pd.Series(['B', 'C', 'A', 'A+', 'B'])\n",
    "}\n",
    "df = pd.DataFrame(ds)\n",
    "df['RESULT'] = df['SUB1'] + df['SUB2']\n",
    "print(df)\n",
    "print(\"\\n\")\n",
    "print(\"----------------------performing reshaping-------------------------\")\n",
    "print(\"\\n\")\n",
    "# Pivot the DataFrame to reshape it\n",
    "reshaped_df = df.melt(id_vars=['S.NO', 'ROLL NO', 'NAME', 'Grades', 'RESULT'], \n",
    "                      value_vars=['SUB1', 'SUB2'], \n",
    "                      var_name='Subject', \n",
    "                      value_name='Score')\n",
    "\n",
    "print(reshaped_df)\n",
    "# here in this reshaping "
   ]
  },
  {
   "cell_type": "code",
   "execution_count": 35,
   "id": "c0518154",
   "metadata": {},
   "outputs": [
    {
     "name": "stdout",
     "output_type": "stream",
     "text": [
      "   S.NO  ROLL NO   NAME  SUB1  SUB2 Grades  RESULT\n",
      "0     1     1001  MYTHS    50    50      B     100\n",
      "1     2     1002    RAM    30    20      C      50\n",
      "2     3     1003   SITA    40    70      A     110\n",
      "3     4     1004  RUSHI    50    80     A+     130\n",
      "4     5     1005    DEV    50    50      B     100\n",
      "\n",
      "\n",
      "----------------------performing reshaping-------------------------\n",
      "\n",
      "\n",
      "   S.NO  ROLL NO   NAME Grades  RESULT Subject  Score\n",
      "0     1     1001  MYTHS      B     100    SUB1     50\n",
      "1     2     1002    RAM      C      50    SUB1     30\n",
      "2     3     1003   SITA      A     110    SUB1     40\n",
      "3     4     1004  RUSHI     A+     130    SUB1     50\n",
      "4     5     1005    DEV      B     100    SUB1     50\n",
      "5     1     1001  MYTHS      B     100    SUB2     50\n",
      "6     2     1002    RAM      C      50    SUB2     20\n",
      "7     3     1003   SITA      A     110    SUB2     70\n",
      "8     4     1004  RUSHI     A+     130    SUB2     80\n",
      "9     5     1005    DEV      B     100    SUB2     50\n"
     ]
    }
   ],
   "source": [
    "import pandas as pd\n",
    "\n",
    "ds = {\n",
    "    'S.NO': pd.Series([1, 2, 3, 4, 5]),\n",
    "    'ROLL NO': pd.Series([1001, 1002, 1003, 1004, 1005]),\n",
    "    'NAME': pd.Series(['MYTHS', 'RAM', 'SITA', 'RUSHI', 'DEV']),\n",
    "    'SUB1': pd.Series([50, 30, 40, 50, 50]),\n",
    "    'SUB2': pd.Series([50, 20, 70, 80, 50]),\n",
    "    'Grades': pd.Series(['B', 'C', 'A', 'A+', 'B'])\n",
    "}\n",
    "df = pd.DataFrame(ds)\n",
    "df['RESULT'] = df['SUB1'] + df['SUB2']\n",
    "print(df)\n",
    "print(\"\\n\")\n",
    "print(\"----------------------performing reshaping-------------------------\")\n",
    "print(\"\\n\")\n",
    "reshaped_df = df.melt(id_vars=['S.NO', 'ROLL NO', 'NAME', 'Grades', 'RESULT'],\n",
    "                      value_vars=['SUB1', 'SUB2'],\n",
    "                      var_name='Subject',\n",
    "                      value_name='Score')\n",
    "\n",
    "# Reset the index to start from 0\n",
    "reshaped_df = reshaped_df.reset_index(drop=True)\n",
    "\n",
    "print(reshaped_df)\n",
    "#This code snippet will produce the reshaped DataFrame with a continuous index starting from 0"
   ]
  },
  {
   "cell_type": "markdown",
   "id": "fc3122f8",
   "metadata": {},
   "source": [
    "1.The melt() function takes the specified columns in id_vars and 'unpivots' the specified columns in value_vars, resulting in  a longer format DataFrame where the specified 'value' columns are combined, and a new column ('Subject') indicates the source of those values.       \n",
    "2.After applying melt(), this row would be transformed into two rows in the reshaped.           \n",
    "3.Here reshaping allows for easier comparison and analysis of scores for different subjects across different students.         \n",
    "\n"
   ]
  },
  {
   "cell_type": "markdown",
   "id": "0ee56308",
   "metadata": {},
   "source": [
    "# DATA AGGREGATION   \n",
    "  --->It focus on join two dataframes.    \n",
    "    by using the concat() we can perform this operation.         \n",
    "    pd.concat([DataFrame1,DataFrame2])"
   ]
  },
  {
   "cell_type": "code",
   "execution_count": 16,
   "id": "10cdb49a",
   "metadata": {},
   "outputs": [
    {
     "name": "stdout",
     "output_type": "stream",
     "text": [
      "   S.NO     NAME  STUDY\n",
      "0     1    MYTHS  BTECH\n",
      "1     2      RAM  MTECH\n",
      "2     3     SITA    MBA\n",
      "3     4    RUSHI    MCA\n",
      "4     5      DEV    DIP\n",
      "0     1      Sri    CEO\n",
      "1     2     NANI    CSO\n",
      "2     3    MADHU    CGO\n",
      "3     4  CHANDHU    CTO\n",
      "4     5   NANDHU    CLO\n"
     ]
    }
   ],
   "source": [
    "print(pd.concat([DF,df1])) # here we are getting the output in a single coloumn after aggregating(combine). "
   ]
  },
  {
   "cell_type": "markdown",
   "id": "ac20306e",
   "metadata": {},
   "source": [
    "# DATA GROUPING  \n",
    "  ---> It is a Process of Make a Group based on some condition from Data in DataSet.      \n",
    "       here we use the method:               \n",
    "       pd.groupby('Field_Name')       "
   ]
  },
  {
   "cell_type": "code",
   "execution_count": 20,
   "id": "2e8f5af6",
   "metadata": {},
   "outputs": [
    {
     "name": "stdout",
     "output_type": "stream",
     "text": [
      "   S.NO  ROLL NO   NAME  SUB1  SUB2 Grades  RESULT\n",
      "0     1     1001  MYTHS    50    50      B     100\n",
      "1     2     1002    RAM    30    20      C      50\n",
      "2     3     1003   SITA    40    70      A     110\n",
      "3     4     1004  RUSHI    50    80     A+     130\n",
      "4     5     1005    DEV    50    50      B     100\n",
      "<pandas.core.groupby.generic.DataFrameGroupBy object at 0x000001CF1875A280>\n"
     ]
    }
   ],
   "source": [
    "import pandas as pd\n",
    "ds={'S.NO':pd.Series([1,2,3,4,5]),\n",
    "    'ROLL NO':pd.Series([1001,1002,1003,1004,1005]),\n",
    "    'NAME':pd.Series(['MYTHS','RAM','SITA','RUSHI','DEV']),\n",
    "    'SUB1':pd.Series([50,30,40,50,50]),\n",
    "    'SUB2':pd.Series([50,20,70,80,50]),\n",
    "   'Grades':pd.Series(['B','C','A','A+','B'])}\n",
    "df=pd.DataFrame(ds)\n",
    "df['RESULT']=df['SUB1']+df['SUB2']\n",
    "print(df)\n",
    "x=df.groupby('Grades')\n",
    "print(x)"
   ]
  },
  {
   "cell_type": "code",
   "execution_count": 23,
   "id": "f228294b",
   "metadata": {},
   "outputs": [
    {
     "name": "stdout",
     "output_type": "stream",
     "text": [
      "   S.NO  ROLL NO   NAME  SUB1  SUB2 Grades  RESULT\n",
      "0     1     1001  MYTHS    50    50      B     100\n",
      "1     2     1002    RAM    30    20      C      50\n",
      "2     3     1003   SITA    40    70      A     110\n",
      "3     4     1004  RUSHI    50    80     A+     130\n",
      "4     5     1005    DEV    50    50      B     100\n",
      "\n",
      "\n",
      "-----------data grouping----------------------------\n",
      "\n",
      "\n",
      "   S.NO  ROLL NO   NAME  SUB1  SUB2 Grades  RESULT\n",
      "0     1     1001  MYTHS    50    50      B     100\n",
      "4     5     1005    DEV    50    50      B     100\n"
     ]
    }
   ],
   "source": [
    "import pandas as pd\n",
    "ds={'S.NO':pd.Series([1,2,3,4,5]),\n",
    "    'ROLL NO':pd.Series([1001,1002,1003,1004,1005]),\n",
    "    'NAME':pd.Series(['MYTHS','RAM','SITA','RUSHI','DEV']),\n",
    "    'SUB1':pd.Series([50,30,40,50,50]),\n",
    "    'SUB2':pd.Series([50,20,70,80,50]),\n",
    "   'Grades':pd.Series(['B','C','A','A+','B'])}\n",
    "df=pd.DataFrame(ds)\n",
    "df['RESULT']=df['SUB1']+df['SUB2']\n",
    "print(df)\n",
    "print(\"\\n\")\n",
    "print(\"-----------data grouping----------------------------\")\n",
    "print(\"\\n\")\n",
    "x=df.groupby('Grades')\n",
    "print(x.get_group('B'))"
   ]
  },
  {
   "cell_type": "code",
   "execution_count": null,
   "id": "20c408f6",
   "metadata": {},
   "outputs": [],
   "source": []
  }
 ],
 "metadata": {
  "kernelspec": {
   "display_name": "Python 3",
   "language": "python",
   "name": "python3"
  },
  "language_info": {
   "codemirror_mode": {
    "name": "ipython",
    "version": 3
   },
   "file_extension": ".py",
   "mimetype": "text/x-python",
   "name": "python",
   "nbconvert_exporter": "python",
   "pygments_lexer": "ipython3",
   "version": "3.8.8"
  }
 },
 "nbformat": 4,
 "nbformat_minor": 5
}
