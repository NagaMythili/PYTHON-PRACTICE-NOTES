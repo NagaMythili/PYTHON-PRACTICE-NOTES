{
 "cells": [
  {
   "cell_type": "markdown",
   "id": "50199040",
   "metadata": {},
   "source": [
    "# ARRAY FUNCTIONS\n",
    " We implement Array Operations in \"NUMPY ARRAYS\" are   \n",
    "    1.zeros()         \n",
    "    2.ones()        \n",
    "    3.reshape()      \n",
    "    4.arrange()       \n",
    "    5.linspace()      \n",
    "    6.zeros_like()      \n",
    "    7.ones_like()     \n",
    "    8.full_like()     \n",
    "    9.eye()      \n",
    "    10.empty()      \n",
    "    11.empty_like()     \n",
    "    12.identify()     "
   ]
  },
  {
   "cell_type": "markdown",
   "id": "8c72f4e8",
   "metadata": {},
   "source": [
    "# zeros()\n",
    "  -->It returns a new Array with \"Shape\" & \"Type\" filled with 0's.   \n",
    "    formula ==zeros([row,column],dtype=int,order='c')"
   ]
  },
  {
   "cell_type": "code",
   "execution_count": 8,
   "id": "b877f226",
   "metadata": {},
   "outputs": [
    {
     "name": "stdout",
     "output_type": "stream",
     "text": [
      "[[0 0]\n",
      " [0 0]] <class 'numpy.ndarray'>\n"
     ]
    }
   ],
   "source": [
    "import numpy as n\n",
    "a=n.zeros([2,2],dtype=int)\n",
    "print(a,type(a))"
   ]
  },
  {
   "cell_type": "markdown",
   "id": "970aaa53",
   "metadata": {},
   "source": [
    "# Ones()\n",
    " -->Its Returns an Array filled with 1's.   "
   ]
  },
  {
   "cell_type": "code",
   "execution_count": 9,
   "id": "1aec473d",
   "metadata": {},
   "outputs": [
    {
     "name": "stdout",
     "output_type": "stream",
     "text": [
      "[[1 1 1]\n",
      " [1 1 1]]\n"
     ]
    }
   ],
   "source": [
    "import numpy as n\n",
    "a=n.ones([2,3],dtype=int)\n",
    "print(a)"
   ]
  },
  {
   "cell_type": "markdown",
   "id": "b4fe1df6",
   "metadata": {},
   "source": [
    "# reshape()\n",
    "  -->it is used to convert one dimensional array to another dimensional"
   ]
  },
  {
   "cell_type": "code",
   "execution_count": 7,
   "id": "8ab43d02",
   "metadata": {},
   "outputs": [
    {
     "name": "stdout",
     "output_type": "stream",
     "text": [
      "[[10]\n",
      " [20]\n",
      " [30]\n",
      " [40]\n",
      " [50]]\n"
     ]
    }
   ],
   "source": [
    "import numpy as p\n",
    "a=p.array((10,20,30,40,50))\n",
    "b=a.reshape(5,1)\n",
    "print(b)"
   ]
  },
  {
   "cell_type": "markdown",
   "id": "3759a707",
   "metadata": {},
   "source": [
    "# arange() \n",
    " --->array function which displays how many array values are to Present in a Array.  \n",
    "  formula== arange(Start,Stop[end+1]). "
   ]
  },
  {
   "cell_type": "code",
   "execution_count": 6,
   "id": "a3c66a60",
   "metadata": {},
   "outputs": [
    {
     "name": "stdout",
     "output_type": "stream",
     "text": [
      "[2 3 4 5 6]\n",
      "[2 3 4 5 6 7]\n"
     ]
    }
   ],
   "source": [
    "import numpy as p\n",
    "a=p.arange(2,7)\n",
    "print(a)\n",
    "b=p.arange(2,8) #(start ,end+1)\n",
    "print(b)\n"
   ]
  },
  {
   "cell_type": "markdown",
   "id": "6941920b",
   "metadata": {},
   "source": [
    "# linspace()\n",
    "-->linear space it contains multiple values in array and it returns in a linear form .   \n",
    " Formula == linspace(Start,Stop,num=10,endpoint=True,dtype)"
   ]
  },
  {
   "cell_type": "code",
   "execution_count": 19,
   "id": "5be91729",
   "metadata": {},
   "outputs": [
    {
     "name": "stdout",
     "output_type": "stream",
     "text": [
      "[3.         3.22222222 3.44444444 3.66666667 3.88888889 4.11111111\n",
      " 4.33333333 4.55555556 4.77777778 5.        ]\n",
      "\n",
      "\n",
      "---starting from 0\n",
      "\n",
      "[0.   0.25 0.5  0.75 1.  ]\n",
      "\n",
      "\n",
      "Starting from points\n",
      "\n",
      "[0.9   0.925 0.95  0.975 1.   ]\n",
      "\n",
      "\n",
      "Starting & stop from points\n",
      "\n",
      "[0.9   0.875 0.85  0.825 0.8  ]\n"
     ]
    }
   ],
   "source": [
    "import numpy as p\n",
    "a=p.linspace(3,5,10)\n",
    "print(a)\n",
    "print(\"\\n\")\n",
    "print(\"---starting from 0\\n\")\n",
    "b=p.linspace(0,1,5)\n",
    "print(b)\n",
    "print(\"\\n\")\n",
    "print(\"Starting from points\\n\")\n",
    "a=p.linspace(0.9,1,5)\n",
    "print(a)\n",
    "print(\"\\n\")\n",
    "print(\"Starting & stop from points\\n\")\n",
    "a=p.linspace(0.9,0.8,5)\n",
    "print(a)\n"
   ]
  },
  {
   "cell_type": "markdown",
   "id": "bd70080f",
   "metadata": {},
   "source": [
    "# zero_like()\n",
    " ---> these will returns the value in array with 0's in Linear Form."
   ]
  },
  {
   "cell_type": "code",
   "execution_count": 21,
   "id": "1a625cbc",
   "metadata": {},
   "outputs": [
    {
     "name": "stdout",
     "output_type": "stream",
     "text": [
      "[0 0]\n",
      "[0 0 0 0 0 0]\n"
     ]
    }
   ],
   "source": [
    "import numpy as m\n",
    "a=m.zeros_like((3,2))\n",
    "print(a)\n",
    "a=m.zeros_like((3,2,10,20,55,4))\n",
    "print(a)"
   ]
  },
  {
   "cell_type": "markdown",
   "id": "deeadf24",
   "metadata": {},
   "source": [
    "# ones_like() \n",
    "---->it returns an array in a linear way,count of the array values"
   ]
  },
  {
   "cell_type": "code",
   "execution_count": 22,
   "id": "e46b2301",
   "metadata": {},
   "outputs": [
    {
     "name": "stdout",
     "output_type": "stream",
     "text": [
      "[1 1]\n",
      "[1 1 1 1 1 1]\n"
     ]
    }
   ],
   "source": [
    "import numpy as m\n",
    "a=m.ones_like((3,2))\n",
    "print(a)\n",
    "a=m.ones_like((3,2,10,20,55,4))\n",
    "print(a)"
   ]
  },
  {
   "cell_type": "markdown",
   "id": "b285d1b4",
   "metadata": {},
   "source": [
    "# full_like()\n",
    "    -->it returns a new array with the same shape and type"
   ]
  },
  {
   "cell_type": "code",
   "execution_count": 27,
   "id": "9bbb5960",
   "metadata": {},
   "outputs": [
    {
     "name": "stdout",
     "output_type": "stream",
     "text": [
      "[5.5 5.5]\n",
      "[5.5 5.5 5.5 5.5 5.5 5.5]\n"
     ]
    }
   ],
   "source": [
    "import numpy as m\n",
    "a=m.full_like((3,2),5.5,dtype=float)\n",
    "print(a)\n",
    "a=m.full_like((3,2,10,20,55,4),5.5,dtype=float)\n",
    "print(a)"
   ]
  },
  {
   "cell_type": "markdown",
   "id": "1c3c8884",
   "metadata": {},
   "source": [
    "# eye()\n",
    "  -->it is 2D array it fill 1's in Diagonal rest in 0's "
   ]
  },
  {
   "cell_type": "code",
   "execution_count": 29,
   "id": "9b4c0f02",
   "metadata": {},
   "outputs": [
    {
     "name": "stdout",
     "output_type": "stream",
     "text": [
      "[[1. 0. 0. 0. 0.]\n",
      " [0. 1. 0. 0. 0.]\n",
      " [0. 0. 1. 0. 0.]\n",
      " [0. 0. 0. 1. 0.]\n",
      " [0. 0. 0. 0. 1.]]\n"
     ]
    }
   ],
   "source": [
    "import numpy as m\n",
    "a=m.eye(5) # nothing but 5x5 matrix (diagonal all are 1's)\n",
    "print(a)\n"
   ]
  },
  {
   "cell_type": "markdown",
   "id": "f89c6a6f",
   "metadata": {},
   "source": [
    "# empty()\n",
    "---> It returns all the Values as Empty by default 0's"
   ]
  },
  {
   "cell_type": "code",
   "execution_count": 6,
   "id": "21afdbe8",
   "metadata": {},
   "outputs": [
    {
     "name": "stdout",
     "output_type": "stream",
     "text": [
      "[[0. 0.]\n",
      " [0. 0.]\n",
      " [0. 0.]]\n",
      "\n",
      "\n",
      "In integer format\n",
      "\n",
      "\n",
      "[[       1        1]\n",
      " [       0  5374021]\n",
      " [     988        0]\n",
      " [16777984      523]]\n"
     ]
    }
   ],
   "source": [
    "import numpy as m\n",
    "a=m.empty((3,2),dtype=float) # it accepts all elements as default\n",
    "print(a)\n",
    "print(\"\\n\")\n",
    "print(\"In integer format\")\n",
    "print(\"\\n\")\n",
    "a=m.empty([4,2],dtype=int)\n",
    "print(a)"
   ]
  },
  {
   "cell_type": "markdown",
   "id": "78611a07",
   "metadata": {},
   "source": [
    "# empty_like() \n",
    "  --->linear format"
   ]
  },
  {
   "cell_type": "code",
   "execution_count": 44,
   "id": "1a16434a",
   "metadata": {},
   "outputs": [
    {
     "name": "stdout",
     "output_type": "stream",
     "text": [
      "[1. 1.]\n",
      "\n",
      "\n",
      "[2 2 4 5 5 7 7]\n"
     ]
    }
   ],
   "source": [
    "import numpy as m\n",
    "a=m.empty_like((3,2),dtype=float)\n",
    "print(a)\n",
    "print(\"\\n\")\n",
    "a=m.empty_like((2,2,4,5,5,7,7),dtype=int)\n",
    "print(a)"
   ]
  },
  {
   "cell_type": "markdown",
   "id": "8712b0de",
   "metadata": {},
   "source": [
    "# identity()\n",
    "--->it returns all the values 1's in diagonal and  0's in rest positions like eye() function."
   ]
  },
  {
   "cell_type": "code",
   "execution_count": 42,
   "id": "42988ca4",
   "metadata": {},
   "outputs": [
    {
     "name": "stdout",
     "output_type": "stream",
     "text": [
      "[[1. 0. 0. 0. 0.]\n",
      " [0. 1. 0. 0. 0.]\n",
      " [0. 0. 1. 0. 0.]\n",
      " [0. 0. 0. 1. 0.]\n",
      " [0. 0. 0. 0. 1.]]\n",
      "\n",
      "\n",
      " if the values are 2\n",
      "\n",
      "[[1. 0.]\n",
      " [0. 1.]]\n"
     ]
    }
   ],
   "source": [
    "import numpy as m\n",
    "a=m.identity(5) # it returns the same origianl array as a output bu coping.\n",
    "print(a)\n",
    "print(\"\\n\")\n",
    "print(\" if the values are 2\\n\")\n",
    "import numpy as m\n",
    "a=m.identity(2)\n",
    "print(a)"
   ]
  },
  {
   "cell_type": "markdown",
   "id": "d2e660fc",
   "metadata": {},
   "source": [
    "# BROADCASTING EXAMPLE"
   ]
  },
  {
   "cell_type": "code",
   "execution_count": 10,
   "id": "d97c7f0d",
   "metadata": {},
   "outputs": [
    {
     "name": "stdout",
     "output_type": "stream",
     "text": [
      "[[ 1  2  3]\n",
      " [ 4  5  6]\n",
      " [ 7  8  9]\n",
      " [10 11 12]]\n",
      "\n",
      "\n",
      "After adding the values to all the 2d array elements we get as---\n",
      "\n",
      "\n",
      "[[ 2  2  4]\n",
      " [ 5  5  7]\n",
      " [ 8  8 10]\n",
      " [11 11 13]]\n"
     ]
    }
   ],
   "source": [
    "import numpy as n\n",
    "a=n.array(((1,2,3),(4,5,6),(7,8,9),(10,11,12)))\n",
    "b=n.array((1,0,1))\n",
    "c=n.empty_like(a)\n",
    "for i in range(4):\n",
    "    c[i,:]=a[i,:]+b\n",
    "print(a)\n",
    "print(\"\\n\")\n",
    "print(\"After adding the values to all the 2d array elements we get as---\")\n",
    "print(\"\\n\")\n",
    "print(c)    "
   ]
  }
 ],
 "metadata": {
  "kernelspec": {
   "display_name": "Python 3",
   "language": "python",
   "name": "python3"
  },
  "language_info": {
   "codemirror_mode": {
    "name": "ipython",
    "version": 3
   },
   "file_extension": ".py",
   "mimetype": "text/x-python",
   "name": "python",
   "nbconvert_exporter": "python",
   "pygments_lexer": "ipython3",
   "version": "3.8.8"
  }
 },
 "nbformat": 4,
 "nbformat_minor": 5
}
