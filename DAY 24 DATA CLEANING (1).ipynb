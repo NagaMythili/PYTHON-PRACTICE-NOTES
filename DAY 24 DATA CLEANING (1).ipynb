{
 "cells": [
  {
   "cell_type": "markdown",
   "id": "129ba248",
   "metadata": {},
   "source": [
    "# DATA CLEANING or HANDLING MISSING VALUES\n",
    "   -----> A data cleaning is a process of Remove or Replace the NaN values which are"
   ]
  },
  {
   "cell_type": "markdown",
   "id": "431c0520",
   "metadata": {},
   "source": [
    "1.EMPTY CELL           \n",
    "2.WRONG FORMAT      \n",
    "3.WRONG DATA      \n",
    "4.REMOVE DUPLICATES.    "
   ]
  },
  {
   "cell_type": "markdown",
   "id": "7f2ea12d",
   "metadata": {},
   "source": [
    "# Empty cell                         \n",
    "   ----> when a cell contains NAN value.             \n",
    "    and here we 2 methods to check a cell is empty or not. \n",
    "    \n",
    "     1. \".isnull()\"   --->True if it is, if not it returns False     \n",
    "        \n",
    "     2. \".notnull()\"   ---->NaN -->True, it is False                     "
   ]
  },
  {
   "cell_type": "code",
   "execution_count": 19,
   "id": "160d14e1",
   "metadata": {},
   "outputs": [
    {
     "name": "stdout",
     "output_type": "stream",
     "text": [
      "   S.NO  ROLL NO   NAME  SUB1  SUB2 Grades  RESULT\n",
      "0     1     1001  MYTHS    50    50      B     100\n",
      "1     2     1002    RAM    30    20      C      50\n",
      "2     3     1003   SITA    40    70      A     110\n",
      "3     4     1004  RUSHI    50    80     A+     130\n",
      "4     5     1005    DEV    50    50      B     100\n",
      "\n",
      "\n",
      "-------------------------.isnull()-------------\n",
      "    S.NO  ROLL NO   NAME   SUB1   SUB2  Grades  RESULT\n",
      "0  False    False  False  False  False   False   False\n",
      "1  False    False  False  False  False   False   False\n",
      "2  False    False  False  False  False   False   False\n",
      "3  False    False  False  False  False   False   False\n",
      "4  False    False  False  False  False   False   False\n",
      "\n",
      "\n",
      "-------------------------.isnull() with sum()-------------\n",
      "S.NO       0\n",
      "ROLL NO    0\n",
      "NAME       0\n",
      "SUB1       0\n",
      "SUB2       0\n",
      "Grades     0\n",
      "RESULT     0\n",
      "dtype: int64\n",
      "\n",
      "\n",
      "-------------------------.isnull() along with sum and mean() values-------------\n",
      "0.0\n",
      "\n",
      "\n",
      "-------------------------.notnull()-------------\n",
      "\n",
      "\n",
      "   S.NO  ROLL NO  NAME  SUB1  SUB2  Grades  RESULT\n",
      "0  True     True  True  True  True    True    True\n",
      "1  True     True  True  True  True    True    True\n",
      "2  True     True  True  True  True    True    True\n",
      "3  True     True  True  True  True    True    True\n",
      "4  True     True  True  True  True    True    True\n"
     ]
    }
   ],
   "source": [
    "import pandas as pd\n",
    "ds={'S.NO':pd.Series([1,2,3,4,5]),\n",
    "    'ROLL NO':pd.Series([1001,1002,1003,1004,1005]),\n",
    "    'NAME':pd.Series(['MYTHS','RAM','SITA','RUSHI','DEV']),\n",
    "    'SUB1':pd.Series([50,30,40,50,50]),\n",
    "    'SUB2':pd.Series([50,20,70,80,50]),\n",
    "   'Grades':pd.Series(['B','C','A','A+','B'])}\n",
    "df=pd.DataFrame(ds)\n",
    "df['RESULT']=df['SUB1']+df['SUB2']\n",
    "print(df)\n",
    "print(\"\\n\")\n",
    "print(\"-------------------------.isnull()-------------\")\n",
    "print(df.isnull())\n",
    "print(\"\\n\")\n",
    "print(\"-------------------------.isnull() with sum()-------------\")\n",
    "print(df.isnull().sum())\n",
    "print(\"\\n\")\n",
    "print(\"-------------------------.isnull() along with sum and mean() values-------------\")\n",
    "print(df.isnull().sum().mean())\n",
    "print(\"\\n\")\n",
    "print(\"-------------------------.notnull()-------------\")\n",
    "print(\"\\n\")\n",
    "print(df.notnull())\n"
   ]
  },
  {
   "cell_type": "markdown",
   "id": "accff8a7",
   "metadata": {},
   "source": [
    "# Wrong Fotmat"
   ]
  },
  {
   "cell_type": "code",
   "execution_count": 3,
   "id": "0b4d4945",
   "metadata": {},
   "outputs": [
    {
     "ename": "NameError",
     "evalue": "name 'cs' is not defined",
     "output_type": "error",
     "traceback": [
      "\u001b[1;31m---------------------------------------------------------------------------\u001b[0m",
      "\u001b[1;31mNameError\u001b[0m                                 Traceback (most recent call last)",
      "\u001b[1;32m<ipython-input-3-90a6a3dfb4ae>\u001b[0m in \u001b[0;36m<module>\u001b[1;34m\u001b[0m\n\u001b[0;32m      3\u001b[0m     \u001b[1;34m'ROLL NO'\u001b[0m\u001b[1;33m:\u001b[0m\u001b[0mpd\u001b[0m\u001b[1;33m.\u001b[0m\u001b[0mSeries\u001b[0m\u001b[1;33m(\u001b[0m\u001b[1;33m[\u001b[0m\u001b[1;36m1001\u001b[0m\u001b[1;33m,\u001b[0m\u001b[1;36m1002\u001b[0m\u001b[1;33m,\u001b[0m\u001b[1;36m1003\u001b[0m\u001b[1;33m,\u001b[0m\u001b[1;36m1004\u001b[0m\u001b[1;33m,\u001b[0m\u001b[1;36m1005\u001b[0m\u001b[1;33m]\u001b[0m\u001b[1;33m)\u001b[0m\u001b[1;33m,\u001b[0m\u001b[1;33m\u001b[0m\u001b[1;33m\u001b[0m\u001b[0m\n\u001b[0;32m      4\u001b[0m     \u001b[1;34m'NAME'\u001b[0m\u001b[1;33m:\u001b[0m\u001b[0mpd\u001b[0m\u001b[1;33m.\u001b[0m\u001b[0mSeries\u001b[0m\u001b[1;33m(\u001b[0m\u001b[1;33m[\u001b[0m\u001b[1;34m'MYTHS'\u001b[0m\u001b[1;33m,\u001b[0m\u001b[1;34m'RAM'\u001b[0m\u001b[1;33m,\u001b[0m\u001b[1;34m'SITA'\u001b[0m\u001b[1;33m,\u001b[0m\u001b[1;34m'RUSHI'\u001b[0m\u001b[1;33m,\u001b[0m\u001b[1;34m'DEV'\u001b[0m\u001b[1;33m]\u001b[0m\u001b[1;33m)\u001b[0m\u001b[1;33m,\u001b[0m\u001b[1;33m\u001b[0m\u001b[1;33m\u001b[0m\u001b[0m\n\u001b[1;32m----> 5\u001b[1;33m     \u001b[1;34m'SUB1'\u001b[0m\u001b[1;33m:\u001b[0m\u001b[0mpd\u001b[0m\u001b[1;33m.\u001b[0m\u001b[0mSeries\u001b[0m\u001b[1;33m(\u001b[0m\u001b[1;33m[\u001b[0m\u001b[1;36m50\u001b[0m\u001b[1;33m,\u001b[0m\u001b[1;36m30\u001b[0m\u001b[1;33m,\u001b[0m\u001b[0mcs\u001b[0m\u001b[1;33m,\u001b[0m\u001b[1;36m50\u001b[0m\u001b[1;33m,\u001b[0m\u001b[1;36m50\u001b[0m\u001b[1;33m]\u001b[0m\u001b[1;33m)\u001b[0m\u001b[1;33m,\u001b[0m\u001b[1;33m\u001b[0m\u001b[1;33m\u001b[0m\u001b[0m\n\u001b[0m\u001b[0;32m      6\u001b[0m     \u001b[1;34m'SUB2'\u001b[0m\u001b[1;33m:\u001b[0m\u001b[0mpd\u001b[0m\u001b[1;33m.\u001b[0m\u001b[0mSeries\u001b[0m\u001b[1;33m(\u001b[0m\u001b[1;33m[\u001b[0m\u001b[1;36m50\u001b[0m\u001b[1;33m,\u001b[0m\u001b[1;36m20\u001b[0m\u001b[1;33m,\u001b[0m\u001b[1;36m70\u001b[0m\u001b[1;33m,\u001b[0m\u001b[1;36m80\u001b[0m\u001b[1;33m,\u001b[0m\u001b[1;36m50\u001b[0m\u001b[1;33m]\u001b[0m\u001b[1;33m)\u001b[0m\u001b[1;33m,\u001b[0m\u001b[1;33m\u001b[0m\u001b[1;33m\u001b[0m\u001b[0m\n\u001b[0;32m      7\u001b[0m    'Grades':pd.Series(['B','C','A','A+','B'])}\n",
      "\u001b[1;31mNameError\u001b[0m: name 'cs' is not defined"
     ]
    }
   ],
   "source": [
    "import pandas as pd\n",
    "ds={'S.NO':pd.Series([1,2,3,4,5]),\n",
    "    'ROLL NO':pd.Series([1001,1002,1003,1004,1005]),\n",
    "    'NAME':pd.Series(['MYTHS','RAM','SITA','RUSHI','DEV']),\n",
    "    'SUB1':pd.Series([50,30,cs,50,50]),\n",
    "    'SUB2':pd.Series([50,20,70,80,50]),\n",
    "   'Grades':pd.Series(['B','C','A','A+','B'])}\n",
    "df=pd.DataFrame(ds)\n",
    "df['RESULT']=df['SUB1']+df['SUB2']\n",
    "print(df)\n",
    "print(\"\\n\")\n",
    " # here cs which is wrong format data and not an integer which is wrong data so we get an error."
   ]
  },
  {
   "cell_type": "code",
   "execution_count": 5,
   "id": "48311a30",
   "metadata": {},
   "outputs": [
    {
     "name": "stdout",
     "output_type": "stream",
     "text": [
      "   S.NO  ROLL NO   NAME  SUB1  SUB2 Grades  RESULT\n",
      "0     1     1001  MYTHS    50    50      B     100\n",
      "1     2     1002    RAM    30    20      C      50\n",
      "2     3     1003   SITA    40    70      A     110\n",
      "3     4     1004  RUSHI    50    80     A+     130\n",
      "4     5     1005    DEV    50    50      B     100\n",
      "\n",
      "\n",
      " --------------sum of sub1--------\n",
      "220\n"
     ]
    }
   ],
   "source": [
    "import pandas as pd\n",
    "ds={'S.NO':pd.Series([1,2,3,4,5]),\n",
    "    'ROLL NO':pd.Series([1001,1002,1003,1004,1005]),\n",
    "    'NAME':pd.Series(['MYTHS','RAM','SITA','RUSHI','DEV']),\n",
    "    'SUB1':pd.Series([50,30,40,50,50]),\n",
    "    'SUB2':pd.Series([50,20,70,80,50]),\n",
    "   'Grades':pd.Series(['B','C','A','A+','B'])}\n",
    "df=pd.DataFrame(ds)\n",
    "df['RESULT']=df['SUB1']+df['SUB2']\n",
    "print(df)\n",
    "print(\"\\n\")\n",
    "print(\" --------------sum of sub1--------\")\n",
    "print(df['SUB1'].sum())"
   ]
  },
  {
   "cell_type": "code",
   "execution_count": 18,
   "id": "54191c37",
   "metadata": {},
   "outputs": [
    {
     "name": "stdout",
     "output_type": "stream",
     "text": [
      "   S.NO  ROLL NO   NAME  SUB1  SUB2 Grades  RESULT\n",
      "0     1     1001  MYTHS  50.0    50      B   100.0\n",
      "1     2     1002    RAM  30.0    20      C    50.0\n",
      "2     3     1003   SITA   NaN    70      A     NaN\n",
      "3     4     1004  RUSHI  50.0    80     A+   130.0\n",
      "4     5     1005    DEV  50.0    50      B   100.0\n",
      "\n",
      "\n",
      " --------------sum of sub1--------\n",
      "180.0\n"
     ]
    }
   ],
   "source": [
    "# here we are there is a nan empty values\n",
    "import pandas as pd\n",
    "import numpy as np\n",
    "ds={'S.NO':pd.Series([1,2,3,4,5]),\n",
    "    'ROLL NO':pd.Series([1001,1002,1003,1004,1005]),\n",
    "    'NAME':pd.Series(['MYTHS','RAM','SITA','RUSHI','DEV']),\n",
    "    'SUB1':pd.Series([50,30,np.nan,50,50]),\n",
    "    'SUB2':pd.Series([50,20,70,80,50]),\n",
    "   'Grades':pd.Series(['B','C','A','A+','B'])}\n",
    "df=pd.DataFrame(ds)\n",
    "df['RESULT']=df['SUB1']+df['SUB2']\n",
    "print(df)\n",
    "print(\"\\n\")\n",
    "print(\" --------------sum of sub1--------\")\n",
    "print(df['SUB1'].sum())"
   ]
  },
  {
   "cell_type": "markdown",
   "id": "5536a2ce",
   "metadata": {},
   "source": [
    "# Wrong Data\n",
    "  we can treat it as a MIS-MATCHED DATA             \n",
    "  here we 2 methods are:  \n",
    "  \n",
    "  1.dropna() --->it will drop NaN values from the rows  \n",
    "  \n",
    "  2.fillna()               \n",
    "  \n",
    "       (i) fillna(method='pad')  --->previous value            \n",
    "       (ii) fillna(method='bfill')   ---->next value added to null  \n",
    "       \n",
    "       \n",
    "  example:\n",
    "  Max Marks =100          \n",
    "  Marks =105  --------->which is a wrong data or value obtained."
   ]
  },
  {
   "cell_type": "code",
   "execution_count": 10,
   "id": "d24ad8e4",
   "metadata": {},
   "outputs": [
    {
     "name": "stdout",
     "output_type": "stream",
     "text": [
      "   S.NO  ROLL NO   NAME  SUB1  SUB2 Grades  RESULT\n",
      "0     1     1001  MYTHS  50.0    50      B   100.0\n",
      "1     2     1002    RAM  30.0    20      C    50.0\n",
      "2     3     1003   SITA   NaN    70      A     NaN\n",
      "3     4     1004  RUSHI  50.0    80     A+   130.0\n",
      "4     5     1005    DEV  50.0    50      B   100.0\n",
      "\n",
      "\n",
      " --------------dropna()--------\n",
      "   S.NO  ROLL NO   NAME  SUB1  SUB2 Grades  RESULT\n",
      "0     1     1001  MYTHS  50.0    50      B   100.0\n",
      "1     2     1002    RAM  30.0    20      C    50.0\n",
      "3     4     1004  RUSHI  50.0    80     A+   130.0\n",
      "4     5     1005    DEV  50.0    50      B   100.0\n",
      "\n",
      "\n",
      " --------------fillna()--------\n",
      "   S.NO  ROLL NO   NAME  SUB1  SUB2 Grades  RESULT\n",
      "0     1     1001  MYTHS  50.0    50      B   100.0\n",
      "1     2     1002    RAM  30.0    20      C    50.0\n",
      "2     3     1003   SITA  10.0    70      A    10.0\n",
      "3     4     1004  RUSHI  50.0    80     A+   130.0\n",
      "4     5     1005    DEV  50.0    50      B   100.0\n",
      "\n",
      "\n",
      " --------------filna(method='pad')--------\n",
      "   S.NO  ROLL NO   NAME  SUB1  SUB2 Grades  RESULT\n",
      "0     1     1001  MYTHS  50.0    50      B   100.0\n",
      "1     2     1002    RAM  30.0    20      C    50.0\n",
      "2     3     1003   SITA  30.0    70      A    50.0\n",
      "3     4     1004  RUSHI  50.0    80     A+   130.0\n",
      "4     5     1005    DEV  50.0    50      B   100.0\n",
      "\n",
      "\n",
      " --------------filna(method='bfill')--------\n",
      "   S.NO  ROLL NO   NAME  SUB1  SUB2 Grades  RESULT\n",
      "0     1     1001  MYTHS  50.0    50      B   100.0\n",
      "1     2     1002    RAM  30.0    20      C    50.0\n",
      "2     3     1003   SITA  50.0    70      A   130.0\n",
      "3     4     1004  RUSHI  50.0    80     A+   130.0\n",
      "4     5     1005    DEV  50.0    50      B   100.0\n"
     ]
    }
   ],
   "source": [
    "import pandas as pd\n",
    "import numpy as np\n",
    "ds={'S.NO':pd.Series([1,2,3,4,5]),\n",
    "    'ROLL NO':pd.Series([1001,1002,1003,1004,1005]),\n",
    "    'NAME':pd.Series(['MYTHS','RAM','SITA','RUSHI','DEV']),\n",
    "    'SUB1':pd.Series([50,30,np.nan,50,50]),\n",
    "    'SUB2':pd.Series([50,20,70,80,50]),\n",
    "   'Grades':pd.Series(['B','C','A','A+','B'])}\n",
    "df=pd.DataFrame(ds)\n",
    "df['RESULT']=df['SUB1']+df['SUB2']\n",
    "print(df)\n",
    "print(\"\\n\")\n",
    "print(\" --------------dropna()--------\")   # which will drop the NaN row by deleting it.\n",
    "print(df.dropna())\n",
    "print(\"\\n\")\n",
    "print(\" --------------fillna()--------\") # to fill the empty places of NaN we use to replace that value by assigning the specific value to it. \n",
    "print(df.fillna(10))\n",
    "print(\"\\n\")\n",
    "print(\" --------------filna(method='pad')--------\")  # it will fill the Nan value as we seen below 30 is taken.\n",
    "print(df.fillna(method='pad'))\n",
    "print(\"\\n\")\n",
    "print(\" --------------filna(method='bfill')--------\") #it will fill next value as we seen below 50 is  taken.\n",
    "print(df.fillna(method='bfill'))"
   ]
  },
  {
   "cell_type": "markdown",
   "id": "14a09fe9",
   "metadata": {},
   "source": [
    "# Remove Duplicates\n",
    "  it is a Process of Removing Duplicate values from Dataset.          \n",
    "  here we use 2 methods :              \n",
    "    1. duplicated()                \n",
    "    2. drop_duplicates(inplace=True)            "
   ]
  },
  {
   "cell_type": "code",
   "execution_count": 16,
   "id": "136c3a26",
   "metadata": {},
   "outputs": [
    {
     "name": "stdout",
     "output_type": "stream",
     "text": [
      "   S.NO  ROLL NO   NAME  SUB1  SUB2 Grades  RESULT\n",
      "0     1     1001  MYTHS  50.0    50      B   100.0\n",
      "1     2     1002    RAM  30.0    20      C    50.0\n",
      "2     3     1003   SITA   NaN    70      A     NaN\n",
      "3     4     1004  RUSHI  50.0    80     A+   130.0\n",
      "4     5     1005    DEV  50.0    50      B   100.0\n",
      "\n",
      "\n",
      " --------------duplicated()--------\n",
      "0    False\n",
      "1    False\n",
      "2    False\n",
      "3    False\n",
      "4    False\n",
      "dtype: bool\n",
      "\n",
      "\n",
      " --------------drop duplicates()--------\n",
      "\n",
      "\n",
      "   S.NO  ROLL NO   NAME  SUB1  SUB2 Grades  RESULT\n",
      "0     1     1001  MYTHS  50.0    50      B   100.0\n",
      "1     2     1002    RAM  30.0    20      C    50.0\n",
      "2     3     1003   SITA   NaN    70      A     NaN\n",
      "3     4     1004  RUSHI  50.0    80     A+   130.0\n",
      "4     5     1005    DEV  50.0    50      B   100.0\n"
     ]
    }
   ],
   "source": [
    "import pandas as pd\n",
    "import numpy as np\n",
    "ds={'S.NO':pd.Series([1,2,3,4,5]),\n",
    "    'ROLL NO':pd.Series([1001,1002,1003,1004,1005]),\n",
    "    'NAME':pd.Series(['MYTHS','RAM','SITA','RUSHI','DEV']),\n",
    "    'SUB1':pd.Series([50,30,np.nan,50,50]),\n",
    "    'SUB2':pd.Series([50,20,70,80,50]),\n",
    "   'Grades':pd.Series(['B','C','A','A+','B'])}\n",
    "df=pd.DataFrame(ds)\n",
    "df['RESULT']=df['SUB1']+df['SUB2']\n",
    "print(df)\n",
    "print(\"\\n\")\n",
    "print(\" --------------duplicated()--------\")\n",
    "print(df.duplicated())\n",
    "print(\"\\n\")\n",
    "# once we identified the duplicates then we need to dropitby using \n",
    "print(\" --------------drop duplicates()--------\")\n",
    "df.drop_duplicates(inplace=True)\n",
    "print(\"\\n\")\n",
    "print(df)"
   ]
  },
  {
   "cell_type": "code",
   "execution_count": null,
   "id": "4597eccc",
   "metadata": {},
   "outputs": [],
   "source": []
  }
 ],
 "metadata": {
  "kernelspec": {
   "display_name": "Python 3",
   "language": "python",
   "name": "python3"
  },
  "language_info": {
   "codemirror_mode": {
    "name": "ipython",
    "version": 3
   },
   "file_extension": ".py",
   "mimetype": "text/x-python",
   "name": "python",
   "nbconvert_exporter": "python",
   "pygments_lexer": "ipython3",
   "version": "3.8.8"
  }
 },
 "nbformat": 4,
 "nbformat_minor": 5
}
