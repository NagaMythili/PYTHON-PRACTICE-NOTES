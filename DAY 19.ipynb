{
 "cells": [
  {
   "cell_type": "markdown",
   "id": "d32e9ee4",
   "metadata": {},
   "source": [
    "# Create a copy of Original Dataset   \n",
    "  ---> when you are performing Operations on Dataset,If there is no copy then the original Data will be Modified.If the Original Data will be Modified .There is no Security to data in Dataset."
   ]
  },
  {
   "cell_type": "markdown",
   "id": "3b03522c",
   "metadata": {},
   "source": [
    "# We Create copy of Original Dataset in Two Ways\n",
    "1.Shallow Copy      \n",
    "       -->creates a reference of Original Data Set(like 5-address is reference here for the value which is copied as another with           the reference value).   \n",
    "2.Deep Copy ---> Directly Original Data will be Copied."
   ]
  },
  {
   "cell_type": "code",
   "execution_count": 3,
   "id": "7339d1cf",
   "metadata": {},
   "outputs": [
    {
     "name": "stdout",
     "output_type": "stream",
     "text": [
      "   S.NO  ROLL NO   NAME  SUB1  SUB2\n",
      "0     1     1001  MYTHS    50    50\n",
      "1     2     1002    RAM    30    20\n",
      "2     3     1003   SITA    40    70\n",
      "3     4     1004  RUSHI    50    80\n",
      "4     5     1005    DEV    50    50\n"
     ]
    }
   ],
   "source": [
    "import pandas as pd\n",
    "ds={'S.NO':pd.Series([1,2,3,4,5]),\n",
    "    'ROLL NO':pd.Series([1001,1002,1003,1004,1005]),\n",
    "    'NAME':pd.Series(['MYTHS','RAM','SITA','RUSHI','DEV']),\n",
    "    'SUB1':pd.Series([50,30,40,50,50]),\n",
    "    'SUB2':pd.Series([50,20,70,80,50])}\n",
    "df=pd.DataFrame(ds)\n",
    "print(df)"
   ]
  },
  {
   "cell_type": "code",
   "execution_count": 5,
   "id": "8364c3aa",
   "metadata": {},
   "outputs": [
    {
     "name": "stdout",
     "output_type": "stream",
     "text": [
      "   S.NO  ROLL NO   NAME  SUB1  SUB2\n",
      "0     1     1001  MYTHS    50    50\n",
      "1     2     1002    RAM    30    20\n",
      "2     3     1003   SITA    40    70\n",
      "3     4     1004  RUSHI    50    80\n",
      "4     5     1005    DEV    50    50\n"
     ]
    }
   ],
   "source": [
    "#Shallow copy\n",
    "sc=df.copy(deep=False) # because here in shallow it doesnot copy irectly thats why it should be specify False.\n",
    "print(sc)"
   ]
  },
  {
   "cell_type": "code",
   "execution_count": 6,
   "id": "463132be",
   "metadata": {},
   "outputs": [
    {
     "name": "stdout",
     "output_type": "stream",
     "text": [
      "   S.NO  ROLL NO   NAME  SUB1  SUB2\n",
      "0     1     1001  MYTHS    50    50\n",
      "1     2     1002    RAM    30    20\n",
      "2     3     1003   SITA    40    70\n",
      "3     4     1004  RUSHI    50    80\n",
      "4     5     1005    DEV    50    50\n"
     ]
    }
   ],
   "source": [
    "#Deep Copy\n",
    "dc=df.copy(deep=True) #here it copy original value directly without pointing its reference values to Copy.\n",
    "print(dc)"
   ]
  },
  {
   "cell_type": "markdown",
   "id": "50f0c199",
   "metadata": {},
   "source": [
    "# ATTRIBUTES OF DATA ARE\n",
    "1.size   \n",
    "2.shape   \n",
    "3.info()   \n",
    "4.index   \n",
    "5.memory_usage()  \n",
    "6.ndim   "
   ]
  },
  {
   "cell_type": "code",
   "execution_count": 7,
   "id": "b3ba528c",
   "metadata": {},
   "outputs": [
    {
     "name": "stdout",
     "output_type": "stream",
     "text": [
      "25\n"
     ]
    }
   ],
   "source": [
    "#Size\n",
    "print(dc.size) # row x column value "
   ]
  },
  {
   "cell_type": "code",
   "execution_count": 8,
   "id": "a40d58de",
   "metadata": {},
   "outputs": [
    {
     "name": "stdout",
     "output_type": "stream",
     "text": [
      "(5, 5)\n"
     ]
    }
   ],
   "source": [
    "#shape\n",
    "print(dc.shape) # indicating no.of rows,column"
   ]
  },
  {
   "cell_type": "code",
   "execution_count": 12,
   "id": "666a79d1",
   "metadata": {},
   "outputs": [
    {
     "name": "stdout",
     "output_type": "stream",
     "text": [
      "<class 'pandas.core.frame.DataFrame'>\n",
      "RangeIndex: 5 entries, 0 to 4\n",
      "Data columns (total 5 columns):\n",
      " #   Column   Non-Null Count  Dtype \n",
      "---  ------   --------------  ----- \n",
      " 0   S.NO     5 non-null      int64 \n",
      " 1   ROLL NO  5 non-null      int64 \n",
      " 2   NAME     5 non-null      object\n",
      " 3   SUB1     5 non-null      int64 \n",
      " 4   SUB2     5 non-null      int64 \n",
      "dtypes: int64(4), object(1)\n",
      "memory usage: 328.0+ bytes\n",
      "None\n"
     ]
    }
   ],
   "source": [
    "#info\n",
    "print(dc.info()) # overall details of the data frame."
   ]
  },
  {
   "cell_type": "code",
   "execution_count": 13,
   "id": "de08b2e5",
   "metadata": {},
   "outputs": [
    {
     "name": "stdout",
     "output_type": "stream",
     "text": [
      "RangeIndex(start=0, stop=5, step=1)\n"
     ]
    }
   ],
   "source": [
    "#index\n",
    "print(sc.index) # here including end +1(start=0, stop=5, step=1)"
   ]
  },
  {
   "cell_type": "code",
   "execution_count": 14,
   "id": "b005d0fa",
   "metadata": {},
   "outputs": [
    {
     "name": "stdout",
     "output_type": "stream",
     "text": [
      "Index      128\n",
      "S.NO        40\n",
      "ROLL NO     40\n",
      "NAME        40\n",
      "SUB1        40\n",
      "SUB2        40\n",
      "dtype: int64\n"
     ]
    }
   ],
   "source": [
    "#memory_usage\n",
    "print(dc.memory_usage())"
   ]
  },
  {
   "cell_type": "code",
   "execution_count": 15,
   "id": "0977493e",
   "metadata": {},
   "outputs": [
    {
     "name": "stdout",
     "output_type": "stream",
     "text": [
      "2\n"
     ]
    }
   ],
   "source": [
    "#ndim\n",
    "print(dc.ndim) #(rxc=2-->rows and columns specification of which dimension)."
   ]
  },
  {
   "cell_type": "markdown",
   "id": "46c6b8e6",
   "metadata": {},
   "source": [
    "# Operations on DataSet\n",
    "1.Selection  \n",
    "2.Addition  \n",
    "3.Deletion     \n",
    "--->here we need to perform column and row operations."
   ]
  },
  {
   "cell_type": "code",
   "execution_count": 16,
   "id": "4de7fc6b",
   "metadata": {},
   "outputs": [
    {
     "name": "stdout",
     "output_type": "stream",
     "text": [
      "   S.NO  ROLL NO   NAME  SUB1  SUB2\n",
      "0     1     1001  MYTHS    50    50\n",
      "1     2     1002    RAM    30    20\n",
      "2     3     1003   SITA    40    70\n",
      "3     4     1004  RUSHI    50    80\n",
      "4     5     1005    DEV    50    50\n"
     ]
    }
   ],
   "source": [
    "print(sc)"
   ]
  },
  {
   "cell_type": "code",
   "execution_count": 19,
   "id": "93680634",
   "metadata": {},
   "outputs": [
    {
     "name": "stdout",
     "output_type": "stream",
     "text": [
      "0    MYTHS\n",
      "1      RAM\n",
      "2     SITA\n",
      "3    RUSHI\n",
      "4      DEV\n",
      "Name: NAME, dtype: object\n"
     ]
    }
   ],
   "source": [
    "# Column Selection\n",
    "print(df['NAME'])"
   ]
  },
  {
   "cell_type": "code",
   "execution_count": 20,
   "id": "aaa726a2",
   "metadata": {},
   "outputs": [
    {
     "name": "stdout",
     "output_type": "stream",
     "text": [
      "   S.NO  ROLL NO   NAME  SUB1  SUB2\n",
      "0     1     1001  MYTHS    50    50\n",
      "1     2     1002    RAM    30    20\n",
      "2     3     1003   SITA    40    70\n",
      "3     4     1004  RUSHI    50    80\n",
      "4     5     1005    DEV    50    50\n",
      "********************\n",
      "   S.NO  ROLL NO   NAME  SUB1  SUB2 GRADES\n",
      "0     1     1001  MYTHS    50    50      B\n",
      "1     2     1002    RAM    30    20      C\n",
      "2     3     1003   SITA    40    70      A\n",
      "3     4     1004  RUSHI    50    80     A+\n",
      "4     5     1005    DEV    50    50      B\n"
     ]
    }
   ],
   "source": [
    "#Column Addition\n",
    "import pandas as pd\n",
    "ds={'S.NO':pd.Series([1,2,3,4,5]),\n",
    "    'ROLL NO':pd.Series([1001,1002,1003,1004,1005]),\n",
    "    'NAME':pd.Series(['MYTHS','RAM','SITA','RUSHI','DEV']),\n",
    "    'SUB1':pd.Series([50,30,40,50,50]),\n",
    "    'SUB2':pd.Series([50,20,70,80,50])}\n",
    "df=pd.DataFrame(ds)\n",
    "print(df)\n",
    "print(\"********************\")\n",
    "df['GRADES']=pd.Series(['B','C','A','A+','B'])\n",
    "print(df)"
   ]
  },
  {
   "cell_type": "code",
   "execution_count": 21,
   "id": "5a7aca1d",
   "metadata": {},
   "outputs": [
    {
     "name": "stdout",
     "output_type": "stream",
     "text": [
      "   S.NO  ROLL NO   NAME  SUB1  SUB2 GRADES\n",
      "0     1     1001  MYTHS    50    50      B\n",
      "1     2     1002    RAM    30    20      C\n",
      "2     3     1003   SITA    40    70      A\n",
      "3     4     1004  RUSHI    50    80     A+\n",
      "4     5     1005    DEV    50    50      B\n",
      "------------------------\n",
      "   S.NO  ROLL NO   NAME  SUB1  SUB2\n",
      "0     1     1001  MYTHS    50    50\n",
      "1     2     1002    RAM    30    20\n",
      "2     3     1003   SITA    40    70\n",
      "3     4     1004  RUSHI    50    80\n",
      "4     5     1005    DEV    50    50\n"
     ]
    }
   ],
   "source": [
    "#column deletion\n",
    "#it can be done in 2 ways 1.using del  2.using pop\n",
    "print(df)\n",
    "del df['GRADES']\n",
    "print(\"------------------------\")\n",
    "print(df)"
   ]
  },
  {
   "cell_type": "code",
   "execution_count": 22,
   "id": "8780d2e3",
   "metadata": {},
   "outputs": [
    {
     "name": "stdout",
     "output_type": "stream",
     "text": [
      "   S.NO  ROLL NO   NAME  SUB1  SUB2\n",
      "0     1     1001  MYTHS    50    50\n",
      "1     2     1002    RAM    30    20\n",
      "2     3     1003   SITA    40    70\n",
      "3     4     1004  RUSHI    50    80\n",
      "4     5     1005    DEV    50    50\n",
      "-------------------------------------\n",
      "   ROLL NO   NAME  SUB1  SUB2\n",
      "0     1001  MYTHS    50    50\n",
      "1     1002    RAM    30    20\n",
      "2     1003   SITA    40    70\n",
      "3     1004  RUSHI    50    80\n",
      "4     1005    DEV    50    50\n"
     ]
    }
   ],
   "source": [
    "# using pop \n",
    "print(df)\n",
    "print(\"-------------------------------------\")\n",
    "df.pop('S.NO')\n",
    "print(df)\n",
    "# here there is difference in del method we specify in [] to delete and coming pop we use () with single quotation to delete the values in column."
   ]
  },
  {
   "cell_type": "code",
   "execution_count": null,
   "id": "b0a03951",
   "metadata": {},
   "outputs": [],
   "source": []
  }
 ],
 "metadata": {
  "kernelspec": {
   "display_name": "Python 3",
   "language": "python",
   "name": "python3"
  },
  "language_info": {
   "codemirror_mode": {
    "name": "ipython",
    "version": 3
   },
   "file_extension": ".py",
   "mimetype": "text/x-python",
   "name": "python",
   "nbconvert_exporter": "python",
   "pygments_lexer": "ipython3",
   "version": "3.8.8"
  }
 },
 "nbformat": 4,
 "nbformat_minor": 5
}
